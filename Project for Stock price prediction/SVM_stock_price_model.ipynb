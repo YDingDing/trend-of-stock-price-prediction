{
 "cells": [
  {
   "cell_type": "code",
   "execution_count": 1,
   "metadata": {},
   "outputs": [
    {
     "name": "stderr",
     "output_type": "stream",
     "text": [
      "/Users/dingding/anaconda/lib/python3.5/site-packages/sklearn/cross_validation.py:41: DeprecationWarning: This module was deprecated in version 0.18 in favor of the model_selection module into which all the refactored classes and functions are moved. Also note that the interface of the new CV iterators are different from that of this module. This module will be removed in 0.20.\n",
      "  \"This module will be removed in 0.20.\", DeprecationWarning)\n",
      "/Users/dingding/anaconda/lib/python3.5/site-packages/sklearn/grid_search.py:42: DeprecationWarning: This module was deprecated in version 0.18 in favor of the model_selection module into which all the refactored classes and functions are moved. This module will be removed in 0.20.\n",
      "  DeprecationWarning)\n"
     ]
    }
   ],
   "source": [
    "import numpy as np\n",
    "from sklearn.model_selection import KFold\n",
    "from sklearn.svm import SVC\n",
    "import math as m\n",
    "from pandas import Series, DataFrame, Panel\n",
    "from datetime import datetime, date, time\n",
    "import pandas as pd\n",
    "import math\n",
    "import numpy as np\n",
    "import pandas as pd\n",
    "import matplotlib.pyplot as plt\n",
    "import scipy.stats as stats\n",
    "import seaborn as sns\n",
    "\n",
    "from sklearn.feature_extraction.text import CountVectorizer\n",
    "from sklearn.linear_model import LogisticRegression\n",
    "from sklearn.ensemble import RandomForestClassifier, ExtraTreesClassifier, BaggingClassifier\n",
    "from collections import Counter\n",
    "from sklearn.metrics import roc_auc_score, mean_squared_error\n",
    "from sklearn.model_selection import train_test_split\n",
    "from sklearn.metrics import confusion_matrix\n",
    "from sklearn.grid_search import GridSearchCV\n",
    "\n",
    "import xgboost as xgb\n",
    "\n",
    "import lightgbm as lgb\n",
    "\n",
    "from catboost import CatBoostClassifier\n",
    "\n",
    "from sklearn import svm\n",
    "\n",
    "from fastFM import als\n",
    "from sklearn.model_selection import train_test_split\n",
    "\n",
    "def warn(*args, **kwargs): pass\n",
    "import warnings\n",
    "warnings.warn = warn\n",
    "\n",
    "from sklearn.metrics import classification_report\n",
    "from sklearn.metrics import accuracy_score, log_loss\n",
    "from sklearn import decomposition\n",
    "\n",
    "from sklearn.preprocessing import LabelEncoder\n",
    "from sklearn.cross_validation import StratifiedShuffleSplit"
   ]
  },
  {
   "cell_type": "code",
   "execution_count": 2,
   "metadata": {
    "collapsed": true
   },
   "outputs": [],
   "source": [
    "data=pd.read_csv('/Users/dingding/Desktop/GIII_3minutenew.csv')\n",
    "data=data.drop(data.index[[0,1,2,3]])\n"
   ]
  },
  {
   "cell_type": "code",
   "execution_count": 3,
   "metadata": {},
   "outputs": [
    {
     "data": {
      "text/plain": [
       "MFI_3         399\n",
       "Donchian_3      1\n",
       "dtype: int64"
      ]
     },
     "execution_count": 3,
     "metadata": {},
     "output_type": "execute_result"
    }
   ],
   "source": [
    "null_columns=data.columns[data.isnull().any()]\n",
    "data[null_columns].isnull().sum()"
   ]
  },
  {
   "cell_type": "code",
   "execution_count": 4,
   "metadata": {
    "collapsed": true
   },
   "outputs": [],
   "source": [
    "data=data.dropna(subset = ['MFI_3', 'Donchian_3'])"
   ]
  },
  {
   "cell_type": "code",
   "execution_count": 5,
   "metadata": {
    "collapsed": true
   },
   "outputs": [],
   "source": [
    "features=data.iloc[:,2:-2]\n",
    "features\n",
    "labels=data.iloc[:,-1]"
   ]
  },
  {
   "cell_type": "code",
   "execution_count": 6,
   "metadata": {
    "collapsed": true
   },
   "outputs": [],
   "source": [
    "import pandas as pd\n",
    "from sklearn import preprocessing\n",
    "\n",
    "min_max_scaler = preprocessing.MinMaxScaler()\n",
    "np_scaled = min_max_scaler.fit_transform(features)\n",
    "features_normalized = pd.DataFrame(np_scaled)"
   ]
  },
  {
   "cell_type": "markdown",
   "metadata": {},
   "source": [
    "#  SVM Kernal without scailing"
   ]
  },
  {
   "cell_type": "code",
   "execution_count": 7,
   "metadata": {
    "collapsed": true
   },
   "outputs": [],
   "source": [
    "from sklearn.model_selection import train_test_split  \n",
    "X_train, X_test, y_train, y_test = train_test_split(features_normalized, labels, test_size = 0.20)  \n"
   ]
  },
  {
   "cell_type": "code",
   "execution_count": 18,
   "metadata": {},
   "outputs": [
    {
     "name": "stdout",
     "output_type": "stream",
     "text": [
      "[[3122  712]\n",
      " [ 782 3609]]\n",
      "             precision    recall  f1-score   support\n",
      "\n",
      "         -1       0.80      0.81      0.81      3834\n",
      "          1       0.84      0.82      0.83      4391\n",
      "\n",
      "avg / total       0.82      0.82      0.82      8225\n",
      "\n",
      "0.8183586626139817\n"
     ]
    }
   ],
   "source": [
    "clf = svm.SVC()\n",
    "clf.fit(X_train, y_train)  \n",
    "y_pred = clf.predict(X_test)  \n",
    "print(confusion_matrix(y_test,y_pred))  \n",
    "print(classification_report(y_test,y_pred)) \n",
    "print (accuracy_score(y_test, y_pred))"
   ]
  },
  {
   "cell_type": "markdown",
   "metadata": {},
   "source": [
    "# SVM Linear C=1, 10,100,100"
   ]
  },
  {
   "cell_type": "code",
   "execution_count": 109,
   "metadata": {},
   "outputs": [
    {
     "data": {
      "text/plain": [
       "SVC(C=1, cache_size=200, class_weight=None, coef0=0.0,\n",
       "  decision_function_shape='ovr', degree=3, gamma='auto', kernel='linear',\n",
       "  max_iter=-1, probability=False, random_state=None, shrinking=True,\n",
       "  tol=0.001, verbose=False)"
      ]
     },
     "execution_count": 109,
     "metadata": {},
     "output_type": "execute_result"
    }
   ],
   "source": [
    "from sklearn.svm import SVC  \n",
    "svclassifier = SVC(C=1,kernel='linear')  \n",
    "svclassifier.fit(X_train, y_train)  "
   ]
  },
  {
   "cell_type": "code",
   "execution_count": 110,
   "metadata": {},
   "outputs": [
    {
     "name": "stdout",
     "output_type": "stream",
     "text": [
      "[[3092  708]\n",
      " [ 795 3630]]\n",
      "             precision    recall  f1-score   support\n",
      "\n",
      "         -1       0.80      0.81      0.80      3800\n",
      "          1       0.84      0.82      0.83      4425\n",
      "\n",
      "avg / total       0.82      0.82      0.82      8225\n",
      "\n",
      "0.8172644376899696\n"
     ]
    }
   ],
   "source": [
    "y_pred = svclassifier.predict(X_test)  \n",
    "print(confusion_matrix(y_test,y_pred))  \n",
    "print(classification_report(y_test,y_pred)) \n",
    "print (accuracy_score(y_test, y_pred))"
   ]
  },
  {
   "cell_type": "code",
   "execution_count": 111,
   "metadata": {},
   "outputs": [
    {
     "data": {
      "text/plain": [
       "SVC(C=10, cache_size=200, class_weight=None, coef0=0.0,\n",
       "  decision_function_shape='ovr', degree=3, gamma='auto', kernel='linear',\n",
       "  max_iter=-1, probability=False, random_state=None, shrinking=True,\n",
       "  tol=0.001, verbose=False)"
      ]
     },
     "execution_count": 111,
     "metadata": {},
     "output_type": "execute_result"
    }
   ],
   "source": [
    "svclassifier = SVC(C=10,kernel='linear')  \n",
    "svclassifier.fit(X_train, y_train)  "
   ]
  },
  {
   "cell_type": "code",
   "execution_count": 112,
   "metadata": {},
   "outputs": [
    {
     "name": "stdout",
     "output_type": "stream",
     "text": [
      "[[3160  640]\n",
      " [ 653 3772]]\n",
      "             precision    recall  f1-score   support\n",
      "\n",
      "         -1       0.83      0.83      0.83      3800\n",
      "          1       0.85      0.85      0.85      4425\n",
      "\n",
      "avg / total       0.84      0.84      0.84      8225\n",
      "\n",
      "0.8427963525835866\n"
     ]
    }
   ],
   "source": [
    "y_pred = svclassifier.predict(X_test)  \n",
    "print(confusion_matrix(y_test,y_pred))  \n",
    "print(classification_report(y_test,y_pred))  \n",
    "print (accuracy_score(y_test, y_pred))"
   ]
  },
  {
   "cell_type": "code",
   "execution_count": 113,
   "metadata": {},
   "outputs": [
    {
     "data": {
      "text/plain": [
       "SVC(C=100, cache_size=200, class_weight=None, coef0=0.0,\n",
       "  decision_function_shape='ovr', degree=3, gamma='auto', kernel='linear',\n",
       "  max_iter=-1, probability=False, random_state=None, shrinking=True,\n",
       "  tol=0.001, verbose=False)"
      ]
     },
     "execution_count": 113,
     "metadata": {},
     "output_type": "execute_result"
    }
   ],
   "source": [
    "svclassifier = SVC(C=100,kernel='linear')  \n",
    "svclassifier.fit(X_train, y_train)  "
   ]
  },
  {
   "cell_type": "code",
   "execution_count": 114,
   "metadata": {},
   "outputs": [
    {
     "name": "stdout",
     "output_type": "stream",
     "text": [
      "[[3203  597]\n",
      " [ 532 3893]]\n",
      "             precision    recall  f1-score   support\n",
      "\n",
      "         -1       0.86      0.84      0.85      3800\n",
      "          1       0.87      0.88      0.87      4425\n",
      "\n",
      "avg / total       0.86      0.86      0.86      8225\n",
      "\n",
      "0.8627355623100303\n"
     ]
    }
   ],
   "source": [
    "y_pred = svclassifier.predict(X_test)  \n",
    "print(confusion_matrix(y_test,y_pred))  \n",
    "print(classification_report(y_test,y_pred)) \n",
    "print (accuracy_score(y_test, y_pred))"
   ]
  },
  {
   "cell_type": "markdown",
   "metadata": {},
   "source": [
    "# SVM poly"
   ]
  },
  {
   "cell_type": "code",
   "execution_count": 115,
   "metadata": {},
   "outputs": [
    {
     "data": {
      "text/plain": [
       "SVC(C=1, cache_size=200, class_weight=None, coef0=0.0,\n",
       "  decision_function_shape='ovr', degree=8, gamma='auto', kernel='poly',\n",
       "  max_iter=-1, probability=False, random_state=None, shrinking=True,\n",
       "  tol=0.001, verbose=False)"
      ]
     },
     "execution_count": 115,
     "metadata": {},
     "output_type": "execute_result"
    }
   ],
   "source": [
    "from sklearn.svm import SVC  \n",
    "svclassifier = SVC(C=1,kernel='poly', degree=8)  \n",
    "svclassifier.fit(X_train, y_train)  "
   ]
  },
  {
   "cell_type": "code",
   "execution_count": 116,
   "metadata": {
    "collapsed": true
   },
   "outputs": [],
   "source": [
    "y_pred = svclassifier.predict(X_test)  "
   ]
  },
  {
   "cell_type": "code",
   "execution_count": 117,
   "metadata": {},
   "outputs": [
    {
     "name": "stdout",
     "output_type": "stream",
     "text": [
      "[[   0 3800]\n",
      " [   0 4425]]\n",
      "             precision    recall  f1-score   support\n",
      "\n",
      "         -1       0.00      0.00      0.00      3800\n",
      "          1       0.54      1.00      0.70      4425\n",
      "\n",
      "avg / total       0.29      0.54      0.38      8225\n",
      "\n",
      "0.5379939209726444\n"
     ]
    }
   ],
   "source": [
    "from sklearn.metrics import classification_report, confusion_matrix  \n",
    "print(confusion_matrix(y_test, y_pred))  \n",
    "print(classification_report(y_test, y_pred))  \n",
    "print (accuracy_score(y_test, y_pred))"
   ]
  },
  {
   "cell_type": "code",
   "execution_count": 118,
   "metadata": {},
   "outputs": [
    {
     "data": {
      "text/plain": [
       "SVC(C=10, cache_size=200, class_weight=None, coef0=0.0,\n",
       "  decision_function_shape='ovr', degree=8, gamma='auto', kernel='poly',\n",
       "  max_iter=-1, probability=False, random_state=None, shrinking=True,\n",
       "  tol=0.001, verbose=False)"
      ]
     },
     "execution_count": 118,
     "metadata": {},
     "output_type": "execute_result"
    }
   ],
   "source": [
    "svclassifier = SVC(C=10,kernel='poly', degree=8)  \n",
    "svclassifier.fit(X_train, y_train)  "
   ]
  },
  {
   "cell_type": "code",
   "execution_count": 119,
   "metadata": {},
   "outputs": [
    {
     "name": "stdout",
     "output_type": "stream",
     "text": [
      "[[ 411 3389]\n",
      " [ 103 4322]]\n",
      "             precision    recall  f1-score   support\n",
      "\n",
      "         -1       0.80      0.11      0.19      3800\n",
      "          1       0.56      0.98      0.71      4425\n",
      "\n",
      "avg / total       0.67      0.58      0.47      8225\n",
      "\n",
      "0.5754407294832826\n"
     ]
    }
   ],
   "source": [
    "y_pred = svclassifier.predict(X_test)  \n",
    "print(confusion_matrix(y_test, y_pred))  \n",
    "print(classification_report(y_test, y_pred))  \n",
    "print (accuracy_score(y_test, y_pred))"
   ]
  },
  {
   "cell_type": "code",
   "execution_count": 120,
   "metadata": {},
   "outputs": [
    {
     "data": {
      "text/plain": [
       "SVC(C=100, cache_size=200, class_weight=None, coef0=0.0,\n",
       "  decision_function_shape='ovr', degree=8, gamma='auto', kernel='poly',\n",
       "  max_iter=-1, probability=False, random_state=None, shrinking=True,\n",
       "  tol=0.001, verbose=False)"
      ]
     },
     "execution_count": 120,
     "metadata": {},
     "output_type": "execute_result"
    }
   ],
   "source": [
    "svclassifier = SVC(C=100,kernel='poly', degree=8)  \n",
    "svclassifier.fit(X_train, y_train)  "
   ]
  },
  {
   "cell_type": "code",
   "execution_count": 121,
   "metadata": {},
   "outputs": [
    {
     "name": "stdout",
     "output_type": "stream",
     "text": [
      "[[3610  190]\n",
      " [2394 2031]]\n",
      "             precision    recall  f1-score   support\n",
      "\n",
      "         -1       0.60      0.95      0.74      3800\n",
      "          1       0.91      0.46      0.61      4425\n",
      "\n",
      "avg / total       0.77      0.69      0.67      8225\n",
      "\n",
      "0.6858358662613981\n"
     ]
    }
   ],
   "source": [
    "y_pred = svclassifier.predict(X_test)  \n",
    "print(confusion_matrix(y_test, y_pred))  \n",
    "print(classification_report(y_test, y_pred))  \n",
    "print (accuracy_score(y_test, y_pred))"
   ]
  },
  {
   "cell_type": "markdown",
   "metadata": {},
   "source": [
    "# SVM rbf, C=1,10,100,100"
   ]
  },
  {
   "cell_type": "code",
   "execution_count": 122,
   "metadata": {},
   "outputs": [
    {
     "name": "stdout",
     "output_type": "stream",
     "text": [
      "[[3042  758]\n",
      " [ 850 3575]]\n",
      "             precision    recall  f1-score   support\n",
      "\n",
      "         -1       0.78      0.80      0.79      3800\n",
      "          1       0.83      0.81      0.82      4425\n",
      "\n",
      "avg / total       0.80      0.80      0.80      8225\n",
      "\n",
      "0.8044984802431611\n"
     ]
    }
   ],
   "source": [
    "svclassifier = SVC(C=1,kernel='rbf')  \n",
    "svclassifier.fit(X_train, y_train)  \n",
    "y_pred = svclassifier.predict(X_test)  \n",
    "print(confusion_matrix(y_test, y_pred))  \n",
    "print(classification_report(y_test, y_pred))  \n",
    "print (accuracy_score(y_test, y_pred))"
   ]
  },
  {
   "cell_type": "code",
   "execution_count": 123,
   "metadata": {},
   "outputs": [
    {
     "name": "stdout",
     "output_type": "stream",
     "text": [
      "[[3037  763]\n",
      " [ 709 3716]]\n",
      "             precision    recall  f1-score   support\n",
      "\n",
      "         -1       0.81      0.80      0.80      3800\n",
      "          1       0.83      0.84      0.83      4425\n",
      "\n",
      "avg / total       0.82      0.82      0.82      8225\n",
      "\n",
      "0.821033434650456\n"
     ]
    }
   ],
   "source": [
    "svclassifier = SVC(C=10,kernel='rbf')  \n",
    "svclassifier.fit(X_train, y_train)  \n",
    "y_pred = svclassifier.predict(X_test)  \n",
    "print(confusion_matrix(y_test, y_pred))  \n",
    "print(classification_report(y_test, y_pred)) \n",
    "print (accuracy_score(y_test, y_pred))"
   ]
  },
  {
   "cell_type": "code",
   "execution_count": 124,
   "metadata": {},
   "outputs": [
    {
     "name": "stdout",
     "output_type": "stream",
     "text": [
      "[[3141  659]\n",
      " [ 625 3800]]\n",
      "             precision    recall  f1-score   support\n",
      "\n",
      "         -1       0.83      0.83      0.83      3800\n",
      "          1       0.85      0.86      0.86      4425\n",
      "\n",
      "avg / total       0.84      0.84      0.84      8225\n",
      "\n",
      "0.8438905775075988\n"
     ]
    }
   ],
   "source": [
    "svclassifier = SVC(C=100,kernel='rbf')  \n",
    "svclassifier.fit(X_train, y_train)  \n",
    "y_pred = svclassifier.predict(X_test)  \n",
    "print(confusion_matrix(y_test, y_pred))  \n",
    "print(classification_report(y_test, y_pred)) \n",
    "print (accuracy_score(y_test, y_pred))"
   ]
  },
  {
   "cell_type": "markdown",
   "metadata": {},
   "source": [
    "# SVM sigmod C=1,10,100,1000"
   ]
  },
  {
   "cell_type": "code",
   "execution_count": 125,
   "metadata": {},
   "outputs": [
    {
     "name": "stdout",
     "output_type": "stream",
     "text": [
      "[[3055  745]\n",
      " [ 872 3553]]\n",
      "             precision    recall  f1-score   support\n",
      "\n",
      "         -1       0.78      0.80      0.79      3800\n",
      "          1       0.83      0.80      0.81      4425\n",
      "\n",
      "avg / total       0.80      0.80      0.80      8225\n",
      "\n",
      "0.8034042553191489\n"
     ]
    }
   ],
   "source": [
    "svclassifier = SVC(C=1,kernel='sigmoid')  \n",
    "svclassifier.fit(X_train, y_train)  \n",
    "y_pred = svclassifier.predict(X_test)  \n",
    "print(confusion_matrix(y_test, y_pred))  \n",
    "print(classification_report(y_test, y_pred)) \n",
    "print (accuracy_score(y_test, y_pred))"
   ]
  },
  {
   "cell_type": "code",
   "execution_count": 126,
   "metadata": {},
   "outputs": [
    {
     "name": "stdout",
     "output_type": "stream",
     "text": [
      "[[2753 1047]\n",
      " [1105 3320]]\n",
      "             precision    recall  f1-score   support\n",
      "\n",
      "         -1       0.71      0.72      0.72      3800\n",
      "          1       0.76      0.75      0.76      4425\n",
      "\n",
      "avg / total       0.74      0.74      0.74      8225\n",
      "\n",
      "0.7383586626139818\n"
     ]
    }
   ],
   "source": [
    "svclassifier = SVC(C=10,kernel='sigmoid')  \n",
    "svclassifier.fit(X_train, y_train)  \n",
    "y_pred = svclassifier.predict(X_test)  \n",
    "print(confusion_matrix(y_test, y_pred))  \n",
    "print(classification_report(y_test, y_pred))  \n",
    "print (accuracy_score(y_test, y_pred))"
   ]
  },
  {
   "cell_type": "code",
   "execution_count": 127,
   "metadata": {},
   "outputs": [
    {
     "name": "stdout",
     "output_type": "stream",
     "text": [
      "[[2694 1106]\n",
      " [1188 3237]]\n",
      "             precision    recall  f1-score   support\n",
      "\n",
      "         -1       0.69      0.71      0.70      3800\n",
      "          1       0.75      0.73      0.74      4425\n",
      "\n",
      "avg / total       0.72      0.72      0.72      8225\n",
      "\n",
      "0.7210942249240122\n"
     ]
    }
   ],
   "source": [
    "svclassifier = SVC(C=100,kernel='sigmoid')  \n",
    "svclassifier.fit(X_train, y_train)  \n",
    "y_pred = svclassifier.predict(X_test)  \n",
    "print(confusion_matrix(y_test, y_pred))  \n",
    "print(classification_report(y_test, y_pred))  \n",
    "print (accuracy_score(y_test, y_pred))"
   ]
  },
  {
   "cell_type": "code",
   "execution_count": 33,
   "metadata": {},
   "outputs": [
    {
     "name": "stdout",
     "output_type": "stream",
     "text": [
      "{'gamma': [1, 0.1, 0.001], 'C': [1, 10, 100], 'kernel': ['rbf', 'linear', 'poly', 'sigmoid']}\n"
     ]
    }
   ],
   "source": [
    "k=['rbf', 'linear','poly','sigmoid']\n",
    "c= [1,10,100]\n",
    "g=[1,0.1,0.001]\n",
    "param_grid=dict(kernel=k, C=c, gamma=g)\n",
    "print(param_grid)\n",
    "svr=svm.SVC()\n",
    "grid = GridSearchCV(svr, param_grid, cv=5,scoring='accuracy')"
   ]
  },
  {
   "cell_type": "code",
   "execution_count": 34,
   "metadata": {},
   "outputs": [
    {
     "name": "stdout",
     "output_type": "stream",
     "text": [
      "\n",
      "Grid scores on development set:\n",
      "\n",
      "[mean: 0.82010, std: 0.00608, params: {'gamma': 1, 'kernel': 'rbf', 'C': 1}, mean: 0.82262, std: 0.00711, params: {'gamma': 1, 'kernel': 'linear', 'C': 1}, mean: 0.84563, std: 0.00518, params: {'gamma': 1, 'kernel': 'poly', 'C': 1}, mean: 0.43039, std: 0.00595, params: {'gamma': 1, 'kernel': 'sigmoid', 'C': 1}, mean: 0.81311, std: 0.00596, params: {'gamma': 0.1, 'kernel': 'rbf', 'C': 1}, mean: 0.82262, std: 0.00711, params: {'gamma': 0.1, 'kernel': 'linear', 'C': 1}, mean: 0.80779, std: 0.00584, params: {'gamma': 0.1, 'kernel': 'poly', 'C': 1}, mean: 0.79487, std: 0.00603, params: {'gamma': 0.1, 'kernel': 'sigmoid', 'C': 1}, mean: 0.80879, std: 0.00681, params: {'gamma': 0.001, 'kernel': 'rbf', 'C': 1}, mean: 0.82262, std: 0.00711, params: {'gamma': 0.001, 'kernel': 'linear', 'C': 1}, mean: 0.53320, std: 0.00003, params: {'gamma': 0.001, 'kernel': 'poly', 'C': 1}, mean: 0.80824, std: 0.00715, params: {'gamma': 0.001, 'kernel': 'sigmoid', 'C': 1}, mean: 0.84366, std: 0.00531, params: {'gamma': 1, 'kernel': 'rbf', 'C': 10}, mean: 0.84548, std: 0.00617, params: {'gamma': 1, 'kernel': 'linear', 'C': 10}, mean: 0.87567, std: 0.00428, params: {'gamma': 1, 'kernel': 'poly', 'C': 10}, mean: 0.42795, std: 0.00606, params: {'gamma': 1, 'kernel': 'sigmoid', 'C': 10}, mean: 0.82819, std: 0.00653, params: {'gamma': 0.1, 'kernel': 'rbf', 'C': 10}, mean: 0.84548, std: 0.00617, params: {'gamma': 0.1, 'kernel': 'linear', 'C': 10}, mean: 0.81247, std: 0.00637, params: {'gamma': 0.1, 'kernel': 'poly', 'C': 10}, mean: 0.72887, std: 0.00163, params: {'gamma': 0.1, 'kernel': 'sigmoid', 'C': 10}, mean: 0.80888, std: 0.00648, params: {'gamma': 0.001, 'kernel': 'rbf', 'C': 10}, mean: 0.84548, std: 0.00617, params: {'gamma': 0.001, 'kernel': 'linear', 'C': 10}, mean: 0.53320, std: 0.00003, params: {'gamma': 0.001, 'kernel': 'poly', 'C': 10}, mean: 0.80870, std: 0.00651, params: {'gamma': 0.001, 'kernel': 'sigmoid', 'C': 10}, mean: 0.87135, std: 0.00379, params: {'gamma': 1, 'kernel': 'rbf', 'C': 100}, mean: 0.86421, std: 0.00529, params: {'gamma': 1, 'kernel': 'linear', 'C': 100}, mean: 0.88503, std: 0.00490, params: {'gamma': 1, 'kernel': 'poly', 'C': 100}, mean: 0.42774, std: 0.00604, params: {'gamma': 1, 'kernel': 'sigmoid', 'C': 100}, mean: 0.85123, std: 0.00617, params: {'gamma': 0.1, 'kernel': 'rbf', 'C': 100}, mean: 0.86421, std: 0.00529, params: {'gamma': 0.1, 'kernel': 'linear', 'C': 100}, mean: 0.82414, std: 0.00734, params: {'gamma': 0.1, 'kernel': 'poly', 'C': 100}, mean: 0.71984, std: 0.00121, params: {'gamma': 0.1, 'kernel': 'sigmoid', 'C': 100}, mean: 0.81320, std: 0.00569, params: {'gamma': 0.001, 'kernel': 'rbf', 'C': 100}, mean: 0.86421, std: 0.00529, params: {'gamma': 0.001, 'kernel': 'linear', 'C': 100}, mean: 0.53320, std: 0.00003, params: {'gamma': 0.001, 'kernel': 'poly', 'C': 100}, mean: 0.81128, std: 0.00621, params: {'gamma': 0.001, 'kernel': 'sigmoid', 'C': 100}]\n",
      "Best parameters set found on development set:\n",
      "\n",
      "{'gamma': 1, 'kernel': 'poly', 'C': 100}\n",
      "Grid best score:\n",
      "\n",
      "0.8850316147859922\n"
     ]
    }
   ],
   "source": [
    "grid.fit(X_train, y_train)  \n",
    "print()\n",
    "print(\"Grid scores on development set:\")\n",
    "print()  \n",
    "print(grid.grid_scores_ ) \n",
    "print(\"Best parameters set found on development set:\")\n",
    "print()\n",
    "print(grid.best_params_)\n",
    "print(\"Grid best score:\")\n",
    "print()\n",
    "print (grid.best_score_)"
   ]
  },
  {
   "cell_type": "markdown",
   "metadata": {},
   "source": [
    "# SVM_daliy_price"
   ]
  },
  {
   "cell_type": "code",
   "execution_count": 20,
   "metadata": {
    "collapsed": true
   },
   "outputs": [],
   "source": [
    "daily_data=pd.read_csv('/Users/dingding/Desktop/GIIIUS_daily_new.csv')\n",
    "null_columns=daily_data.columns[daily_data.isnull().any()]\n",
    "daily_data[null_columns].isnull().sum()\n",
    "daily_data=daily_data.dropna(subset = ['Donchian_3'])\n",
    "daily_data=daily_data.drop(['field','RETURN_COM_EQY','EBITDA','IS_EPS','PROF_MARGIN','ROC_3','Return_3'],axis = 1)"
   ]
  },
  {
   "cell_type": "code",
   "execution_count": 21,
   "metadata": {
    "collapsed": true
   },
   "outputs": [],
   "source": [
    "daily_features=daily_data.iloc[:,0:-1]\n",
    "daily_labels=daily_data.iloc[:,-1]"
   ]
  },
  {
   "cell_type": "code",
   "execution_count": 22,
   "metadata": {
    "collapsed": true
   },
   "outputs": [],
   "source": [
    "min_max_scaler = preprocessing.MinMaxScaler()\n",
    "np_scaled = min_max_scaler.fit_transform(daily_features)\n",
    "dailyfeatures_normalized = pd.DataFrame(np_scaled)"
   ]
  },
  {
   "cell_type": "code",
   "execution_count": 23,
   "metadata": {
    "collapsed": true
   },
   "outputs": [],
   "source": [
    "X_dailytrain, X_dailytest, y_dailytrain, y_dailytest = train_test_split(dailyfeatures_normalized, daily_labels, test_size = 0.20)  "
   ]
  },
  {
   "cell_type": "code",
   "execution_count": 24,
   "metadata": {},
   "outputs": [
    {
     "name": "stdout",
     "output_type": "stream",
     "text": [
      "[[444 155]\n",
      " [152 567]]\n",
      "             precision    recall  f1-score   support\n",
      "\n",
      "         -1       0.74      0.74      0.74       599\n",
      "          1       0.79      0.79      0.79       719\n",
      "\n",
      "avg / total       0.77      0.77      0.77      1318\n",
      "\n",
      "0.7670713201820941\n"
     ]
    }
   ],
   "source": [
    "clf = svm.SVC()\n",
    "clf.fit(X_dailytrain, y_dailytrain)  \n",
    "y_dailypred = clf.predict(X_dailytest)  \n",
    "print(confusion_matrix(y_dailytest,y_dailypred))  \n",
    "print(classification_report(y_dailytest,y_dailypred)) \n",
    "print (accuracy_score(y_dailytest, y_dailypred))"
   ]
  },
  {
   "cell_type": "code",
   "execution_count": 132,
   "metadata": {},
   "outputs": [
    {
     "name": "stdout",
     "output_type": "stream",
     "text": [
      "[[477 151]\n",
      " [147 543]]\n",
      "             precision    recall  f1-score   support\n",
      "\n",
      "         -1       0.76      0.76      0.76       628\n",
      "          1       0.78      0.79      0.78       690\n",
      "\n",
      "avg / total       0.77      0.77      0.77      1318\n",
      "\n",
      "0.7738998482549317\n"
     ]
    }
   ],
   "source": [
    "svclassifier = SVC(C=1,kernel='linear')  \n",
    "svclassifier.fit(X_dailytrain, y_dailytrain)  \n",
    "y_dailypred = svclassifier.predict(X_dailytest)  \n",
    "print(confusion_matrix(y_dailytest,y_dailypred))  \n",
    "print(classification_report(y_dailytest,y_dailypred)) \n",
    "print (accuracy_score(y_dailytest, y_dailypred))"
   ]
  },
  {
   "cell_type": "code",
   "execution_count": 133,
   "metadata": {},
   "outputs": [
    {
     "name": "stdout",
     "output_type": "stream",
     "text": [
      "[[487 141]\n",
      " [134 556]]\n",
      "             precision    recall  f1-score   support\n",
      "\n",
      "         -1       0.78      0.78      0.78       628\n",
      "          1       0.80      0.81      0.80       690\n",
      "\n",
      "avg / total       0.79      0.79      0.79      1318\n",
      "\n",
      "0.791350531107739\n"
     ]
    }
   ],
   "source": [
    "svclassifier = SVC(C=10,kernel='linear')  \n",
    "svclassifier.fit(X_dailytrain, y_dailytrain)  \n",
    "y_dailypred = svclassifier.predict(X_dailytest)  \n",
    "print(confusion_matrix(y_dailytest,y_dailypred))  \n",
    "print(classification_report(y_dailytest,y_dailypred)) \n",
    "print (accuracy_score(y_dailytest, y_dailypred))"
   ]
  },
  {
   "cell_type": "code",
   "execution_count": 134,
   "metadata": {},
   "outputs": [
    {
     "name": "stdout",
     "output_type": "stream",
     "text": [
      "[[490 138]\n",
      " [125 565]]\n",
      "             precision    recall  f1-score   support\n",
      "\n",
      "         -1       0.80      0.78      0.79       628\n",
      "          1       0.80      0.82      0.81       690\n",
      "\n",
      "avg / total       0.80      0.80      0.80      1318\n",
      "\n",
      "0.8004552352048558\n"
     ]
    }
   ],
   "source": [
    "svclassifier = SVC(C=100,kernel='linear')  \n",
    "svclassifier.fit(X_dailytrain, y_dailytrain)  \n",
    "y_dailypred = svclassifier.predict(X_dailytest)  \n",
    "print(confusion_matrix(y_dailytest,y_dailypred))  \n",
    "print(classification_report(y_dailytest,y_dailypred)) \n",
    "print (accuracy_score(y_dailytest, y_dailypred))"
   ]
  },
  {
   "cell_type": "code",
   "execution_count": 135,
   "metadata": {},
   "outputs": [
    {
     "name": "stdout",
     "output_type": "stream",
     "text": [
      "[[488 140]\n",
      " [166 524]]\n",
      "             precision    recall  f1-score   support\n",
      "\n",
      "         -1       0.75      0.78      0.76       628\n",
      "          1       0.79      0.76      0.77       690\n",
      "\n",
      "avg / total       0.77      0.77      0.77      1318\n",
      "\n",
      "0.7678300455235205\n"
     ]
    }
   ],
   "source": [
    "svclassifier = SVC(C=1,kernel='poly')  \n",
    "svclassifier.fit(X_dailytrain, y_dailytrain)  \n",
    "y_dailypred = svclassifier.predict(X_dailytest)  \n",
    "print(confusion_matrix(y_dailytest,y_dailypred))  \n",
    "print(classification_report(y_dailytest,y_dailypred)) \n",
    "print (accuracy_score(y_dailytest, y_dailypred))"
   ]
  },
  {
   "cell_type": "code",
   "execution_count": 136,
   "metadata": {},
   "outputs": [
    {
     "name": "stdout",
     "output_type": "stream",
     "text": [
      "[[481 147]\n",
      " [156 534]]\n",
      "             precision    recall  f1-score   support\n",
      "\n",
      "         -1       0.76      0.77      0.76       628\n",
      "          1       0.78      0.77      0.78       690\n",
      "\n",
      "avg / total       0.77      0.77      0.77      1318\n",
      "\n",
      "0.7701062215477997\n"
     ]
    }
   ],
   "source": [
    "svclassifier = SVC(C=10,kernel='poly')  \n",
    "svclassifier.fit(X_dailytrain, y_dailytrain)  \n",
    "y_dailypred = svclassifier.predict(X_dailytest)  \n",
    "print(confusion_matrix(y_dailytest,y_dailypred))  \n",
    "print(classification_report(y_dailytest,y_dailypred)) \n",
    "print (accuracy_score(y_dailytest, y_dailypred))"
   ]
  },
  {
   "cell_type": "code",
   "execution_count": 137,
   "metadata": {},
   "outputs": [
    {
     "name": "stdout",
     "output_type": "stream",
     "text": [
      "[[474 154]\n",
      " [139 551]]\n",
      "             precision    recall  f1-score   support\n",
      "\n",
      "         -1       0.77      0.75      0.76       628\n",
      "          1       0.78      0.80      0.79       690\n",
      "\n",
      "avg / total       0.78      0.78      0.78      1318\n",
      "\n",
      "0.7776934749620638\n"
     ]
    }
   ],
   "source": [
    "svclassifier = SVC(C=100,kernel='poly')  \n",
    "svclassifier.fit(X_dailytrain, y_dailytrain)  \n",
    "y_dailypred = svclassifier.predict(X_dailytest)  \n",
    "print(confusion_matrix(y_dailytest,y_dailypred))  \n",
    "print(classification_report(y_dailytest,y_dailypred)) \n",
    "print (accuracy_score(y_dailytest, y_dailypred))"
   ]
  },
  {
   "cell_type": "code",
   "execution_count": 138,
   "metadata": {},
   "outputs": [
    {
     "name": "stdout",
     "output_type": "stream",
     "text": [
      "[[477 151]\n",
      " [148 542]]\n",
      "             precision    recall  f1-score   support\n",
      "\n",
      "         -1       0.76      0.76      0.76       628\n",
      "          1       0.78      0.79      0.78       690\n",
      "\n",
      "avg / total       0.77      0.77      0.77      1318\n",
      "\n",
      "0.7731411229135053\n"
     ]
    }
   ],
   "source": [
    "svclassifier = SVC(C=1,kernel='rbf')  \n",
    "svclassifier.fit(X_dailytrain, y_dailytrain)  \n",
    "y_dailypred = svclassifier.predict(X_dailytest)  \n",
    "print(confusion_matrix(y_dailytest,y_dailypred))  \n",
    "print(classification_report(y_dailytest,y_dailypred)) \n",
    "print (accuracy_score(y_dailytest, y_dailypred))"
   ]
  },
  {
   "cell_type": "code",
   "execution_count": 139,
   "metadata": {},
   "outputs": [
    {
     "name": "stdout",
     "output_type": "stream",
     "text": [
      "[[475 153]\n",
      " [142 548]]\n",
      "             precision    recall  f1-score   support\n",
      "\n",
      "         -1       0.77      0.76      0.76       628\n",
      "          1       0.78      0.79      0.79       690\n",
      "\n",
      "avg / total       0.78      0.78      0.78      1318\n",
      "\n",
      "0.776176024279211\n"
     ]
    }
   ],
   "source": [
    "svclassifier = SVC(C=10,kernel='rbf')  \n",
    "svclassifier.fit(X_dailytrain, y_dailytrain)  \n",
    "y_dailypred = svclassifier.predict(X_dailytest)  \n",
    "print(confusion_matrix(y_dailytest,y_dailypred))  \n",
    "print(classification_report(y_dailytest,y_dailypred)) \n",
    "print (accuracy_score(y_dailytest, y_dailypred))"
   ]
  },
  {
   "cell_type": "code",
   "execution_count": 140,
   "metadata": {},
   "outputs": [
    {
     "name": "stdout",
     "output_type": "stream",
     "text": [
      "[[465 163]\n",
      " [116 574]]\n",
      "             precision    recall  f1-score   support\n",
      "\n",
      "         -1       0.80      0.74      0.77       628\n",
      "          1       0.78      0.83      0.80       690\n",
      "\n",
      "avg / total       0.79      0.79      0.79      1318\n",
      "\n",
      "0.7883156297420334\n"
     ]
    }
   ],
   "source": [
    "svclassifier = SVC(C=100,kernel='rbf')  \n",
    "svclassifier.fit(X_dailytrain, y_dailytrain)  \n",
    "y_dailypred = svclassifier.predict(X_dailytest)  \n",
    "print(confusion_matrix(y_dailytest,y_dailypred))  \n",
    "print(classification_report(y_dailytest,y_dailypred)) \n",
    "print (accuracy_score(y_dailytest, y_dailypred))"
   ]
  },
  {
   "cell_type": "code",
   "execution_count": 144,
   "metadata": {},
   "outputs": [
    {
     "name": "stdout",
     "output_type": "stream",
     "text": [
      "[[476 152]\n",
      " [147 543]]\n",
      "             precision    recall  f1-score   support\n",
      "\n",
      "         -1       0.76      0.76      0.76       628\n",
      "          1       0.78      0.79      0.78       690\n",
      "\n",
      "avg / total       0.77      0.77      0.77      1318\n",
      "\n",
      "0.7731411229135053\n"
     ]
    }
   ],
   "source": [
    "svclassifier = SVC(C=1,kernel='sigmoid')  \n",
    "svclassifier.fit(X_dailytrain, y_dailytrain)  \n",
    "y_dailypred = svclassifier.predict(X_dailytest)  \n",
    "print(confusion_matrix(y_dailytest,y_dailypred))  \n",
    "print(classification_report(y_dailytest,y_dailypred)) \n",
    "print (accuracy_score(y_dailytest, y_dailypred))"
   ]
  },
  {
   "cell_type": "code",
   "execution_count": 145,
   "metadata": {},
   "outputs": [
    {
     "name": "stdout",
     "output_type": "stream",
     "text": [
      "[[471 157]\n",
      " [151 539]]\n",
      "             precision    recall  f1-score   support\n",
      "\n",
      "         -1       0.76      0.75      0.75       628\n",
      "          1       0.77      0.78      0.78       690\n",
      "\n",
      "avg / total       0.77      0.77      0.77      1318\n",
      "\n",
      "0.7663125948406677\n"
     ]
    }
   ],
   "source": [
    "svclassifier = SVC(C=10,kernel='sigmoid')  \n",
    "svclassifier.fit(X_dailytrain, y_dailytrain)  \n",
    "y_dailypred = svclassifier.predict(X_dailytest)  \n",
    "print(confusion_matrix(y_dailytest,y_dailypred))  \n",
    "print(classification_report(y_dailytest,y_dailypred)) \n",
    "print (accuracy_score(y_dailytest, y_dailypred))"
   ]
  },
  {
   "cell_type": "code",
   "execution_count": 146,
   "metadata": {},
   "outputs": [
    {
     "name": "stdout",
     "output_type": "stream",
     "text": [
      "[[407 221]\n",
      " [220 470]]\n",
      "             precision    recall  f1-score   support\n",
      "\n",
      "         -1       0.65      0.65      0.65       628\n",
      "          1       0.68      0.68      0.68       690\n",
      "\n",
      "avg / total       0.67      0.67      0.67      1318\n",
      "\n",
      "0.665402124430956\n"
     ]
    }
   ],
   "source": [
    "svclassifier = SVC(C=100,kernel='sigmoid')  \n",
    "svclassifier.fit(X_dailytrain, y_dailytrain)  \n",
    "y_dailypred = svclassifier.predict(X_dailytest)  \n",
    "print(confusion_matrix(y_dailytest,y_dailypred))  \n",
    "print(classification_report(y_dailytest,y_dailypred)) \n",
    "print (accuracy_score(y_dailytest, y_dailypred))"
   ]
  },
  {
   "cell_type": "code",
   "execution_count": 156,
   "metadata": {},
   "outputs": [
    {
     "name": "stdout",
     "output_type": "stream",
     "text": [
      "\n",
      "Grid scores on development set:\n",
      "\n",
      "[mean: 0.76846, std: 0.01522, params: {'C': 1, 'kernel': 'rbf', 'gamma': 1}, mean: 0.76846, std: 0.01324, params: {'C': 1, 'kernel': 'linear', 'gamma': 1}, mean: 0.80262, std: 0.00910, params: {'C': 1, 'kernel': 'poly', 'gamma': 1}, mean: 0.54128, std: 0.00004, params: {'C': 1, 'kernel': 'sigmoid', 'gamma': 1}, mean: 0.76618, std: 0.01347, params: {'C': 1, 'kernel': 'rbf', 'gamma': 0.1}, mean: 0.76846, std: 0.01324, params: {'C': 1, 'kernel': 'linear', 'gamma': 0.1}, mean: 0.76618, std: 0.01529, params: {'C': 1, 'kernel': 'poly', 'gamma': 0.1}, mean: 0.75232, std: 0.00973, params: {'C': 1, 'kernel': 'sigmoid', 'gamma': 0.1}, mean: 0.76504, std: 0.01519, params: {'C': 1, 'kernel': 'rbf', 'gamma': 0.001}, mean: 0.76846, std: 0.01324, params: {'C': 1, 'kernel': 'linear', 'gamma': 0.001}, mean: 0.54128, std: 0.00004, params: {'C': 1, 'kernel': 'poly', 'gamma': 0.001}, mean: 0.61833, std: 0.00814, params: {'C': 1, 'kernel': 'sigmoid', 'gamma': 0.001}, mean: 0.77795, std: 0.01208, params: {'C': 10, 'kernel': 'rbf', 'gamma': 1}, mean: 0.77757, std: 0.01274, params: {'C': 10, 'kernel': 'linear', 'gamma': 1}, mean: 0.83735, std: 0.00381, params: {'C': 10, 'kernel': 'poly', 'gamma': 1}, mean: 0.54128, std: 0.00004, params: {'C': 10, 'kernel': 'sigmoid', 'gamma': 1}, mean: 0.76599, std: 0.01377, params: {'C': 10, 'kernel': 'rbf', 'gamma': 0.1}, mean: 0.77757, std: 0.01274, params: {'C': 10, 'kernel': 'linear', 'gamma': 0.1}, mean: 0.76808, std: 0.01366, params: {'C': 10, 'kernel': 'poly', 'gamma': 0.1}, mean: 0.65477, std: 0.01269, params: {'C': 10, 'kernel': 'sigmoid', 'gamma': 0.1}, mean: 0.76352, std: 0.01410, params: {'C': 10, 'kernel': 'rbf', 'gamma': 0.001}, mean: 0.77757, std: 0.01274, params: {'C': 10, 'kernel': 'linear', 'gamma': 0.001}, mean: 0.54128, std: 0.00004, params: {'C': 10, 'kernel': 'poly', 'gamma': 0.001}, mean: 0.76447, std: 0.01454, params: {'C': 10, 'kernel': 'sigmoid', 'gamma': 0.001}, mean: 0.80831, std: 0.01007, params: {'C': 100, 'kernel': 'rbf', 'gamma': 1}, mean: 0.78554, std: 0.00975, params: {'C': 100, 'kernel': 'linear', 'gamma': 1}, mean: 0.88442, std: 0.00851, params: {'C': 100, 'kernel': 'poly', 'gamma': 1}, mean: 0.54128, std: 0.00004, params: {'C': 100, 'kernel': 'sigmoid', 'gamma': 1}, mean: 0.78364, std: 0.01179, params: {'C': 100, 'kernel': 'rbf', 'gamma': 0.1}, mean: 0.78554, std: 0.00975, params: {'C': 100, 'kernel': 'linear', 'gamma': 0.1}, mean: 0.78098, std: 0.01031, params: {'C': 100, 'kernel': 'poly', 'gamma': 0.1}, mean: 0.64396, std: 0.01264, params: {'C': 100, 'kernel': 'sigmoid', 'gamma': 0.1}, mean: 0.76599, std: 0.01446, params: {'C': 100, 'kernel': 'rbf', 'gamma': 0.001}, mean: 0.78554, std: 0.00975, params: {'C': 100, 'kernel': 'linear', 'gamma': 0.001}, mean: 0.54128, std: 0.00004, params: {'C': 100, 'kernel': 'poly', 'gamma': 0.001}, mean: 0.76409, std: 0.01380, params: {'C': 100, 'kernel': 'sigmoid', 'gamma': 0.001}]\n",
      "Best parameters set found on development set:\n",
      "\n",
      "{'C': 100, 'kernel': 'poly', 'gamma': 1}\n",
      "Grid best score:\n",
      "\n",
      "0.8844182956917821\n"
     ]
    }
   ],
   "source": [
    "grid.fit(X_dailytrain, y_dailytrain)  \n",
    "print('')\n",
    "print(\"Grid scores on development set:\")\n",
    "print('')  \n",
    "print(grid.grid_scores_ ) \n",
    "print(\"Best parameters set found on development set:\")\n",
    "print('')\n",
    "print(grid.best_params_)\n",
    "print(\"Grid best score:\")\n",
    "print('')\n",
    "print (grid.best_score_)"
   ]
  },
  {
   "cell_type": "markdown",
   "metadata": {},
   "source": [
    "# SVM for minute data with feature importances"
   ]
  },
  {
   "cell_type": "code",
   "execution_count": 25,
   "metadata": {
    "collapsed": true
   },
   "outputs": [],
   "source": [
    "data_feature=data.drop(['time','close','high','low','open','volume','MA_3','Force_3'],axis = 1)"
   ]
  },
  {
   "cell_type": "code",
   "execution_count": 26,
   "metadata": {
    "collapsed": true
   },
   "outputs": [],
   "source": [
    "features_importance=data_feature.iloc[:,2:-2]\n",
    "\n",
    "labels_importance=data_feature.iloc[:,-1]"
   ]
  },
  {
   "cell_type": "code",
   "execution_count": 27,
   "metadata": {
    "collapsed": true
   },
   "outputs": [],
   "source": [
    "min_max_scaler = preprocessing.MinMaxScaler()\n",
    "np_scaled = min_max_scaler.fit_transform(features_importance)\n",
    "featuresimport_normalized = pd.DataFrame(np_scaled)\n"
   ]
  },
  {
   "cell_type": "code",
   "execution_count": 28,
   "metadata": {
    "collapsed": true
   },
   "outputs": [],
   "source": [
    "X_impor, X_impor_test, y_impor, y_impor_test = train_test_split(featuresimport_normalized, labels_importance, test_size = 0.20)  "
   ]
  },
  {
   "cell_type": "code",
   "execution_count": 29,
   "metadata": {},
   "outputs": [
    {
     "name": "stdout",
     "output_type": "stream",
     "text": [
      "[[3034  833]\n",
      " [ 734 3624]]\n",
      "             precision    recall  f1-score   support\n",
      "\n",
      "         -1       0.81      0.78      0.79      3867\n",
      "          1       0.81      0.83      0.82      4358\n",
      "\n",
      "avg / total       0.81      0.81      0.81      8225\n",
      "\n",
      "0.809483282674772\n"
     ]
    }
   ],
   "source": [
    "clf = svm.SVC()\n",
    "clf.fit(X_impor, y_impor)  \n",
    "y_dailypred = clf.predict(X_impor_test)  \n",
    "print(confusion_matrix(y_impor_test,y_dailypred))  \n",
    "print(classification_report(y_impor_test,y_dailypred)) \n",
    "print (accuracy_score(y_impor_test, y_dailypred))"
   ]
  },
  {
   "cell_type": "code",
   "execution_count": 12,
   "metadata": {},
   "outputs": [
    {
     "name": "stdout",
     "output_type": "stream",
     "text": [
      "{'gamma': [1, 0.1, 0.001], 'C': [1, 10, 100], 'kernel': ['rbf', 'linear', 'poly', 'sigmoid']}\n"
     ]
    }
   ],
   "source": [
    "k=['rbf', 'linear','poly','sigmoid']\n",
    "c= [1,10,100]\n",
    "g=[1,0.1,0.001]\n",
    "param_grid=dict(kernel=k, C=c, gamma=g)\n",
    "print(param_grid)\n",
    "svr=svm.SVC()\n",
    "grid = GridSearchCV(svr, param_grid, cv=5,scoring='accuracy')"
   ]
  },
  {
   "cell_type": "code",
   "execution_count": 13,
   "metadata": {},
   "outputs": [
    {
     "name": "stdout",
     "output_type": "stream",
     "text": [
      "\n",
      "Grid scores on development set:\n",
      "\n",
      "[mean: 0.81490, std: 0.00370, params: {'gamma': 1, 'kernel': 'rbf', 'C': 1}, mean: 0.81162, std: 0.00428, params: {'gamma': 1, 'kernel': 'linear', 'C': 1}, mean: 0.81542, std: 0.00409, params: {'gamma': 1, 'kernel': 'poly', 'C': 1}, mean: 0.53931, std: 0.00244, params: {'gamma': 1, 'kernel': 'sigmoid', 'C': 1}, mean: 0.81116, std: 0.00507, params: {'gamma': 0.1, 'kernel': 'rbf', 'C': 1}, mean: 0.81162, std: 0.00428, params: {'gamma': 0.1, 'kernel': 'linear', 'C': 1}, mean: 0.80387, std: 0.00480, params: {'gamma': 0.1, 'kernel': 'poly', 'C': 1}, mean: 0.81055, std: 0.00416, params: {'gamma': 0.1, 'kernel': 'sigmoid', 'C': 1}, mean: 0.80986, std: 0.00321, params: {'gamma': 0.001, 'kernel': 'rbf', 'C': 1}, mean: 0.81162, std: 0.00428, params: {'gamma': 0.001, 'kernel': 'linear', 'C': 1}, mean: 0.53359, std: 0.00001, params: {'gamma': 0.001, 'kernel': 'poly', 'C': 1}, mean: 0.81007, std: 0.00344, params: {'gamma': 0.001, 'kernel': 'sigmoid', 'C': 1}, mean: 0.81533, std: 0.00461, params: {'gamma': 1, 'kernel': 'rbf', 'C': 10}, mean: 0.81405, std: 0.00397, params: {'gamma': 1, 'kernel': 'linear', 'C': 10}, mean: 0.81514, std: 0.00369, params: {'gamma': 1, 'kernel': 'poly', 'C': 10}, mean: 0.53772, std: 0.00262, params: {'gamma': 1, 'kernel': 'sigmoid', 'C': 10}, mean: 0.81150, std: 0.00453, params: {'gamma': 0.1, 'kernel': 'rbf', 'C': 10}, mean: 0.81405, std: 0.00397, params: {'gamma': 0.1, 'kernel': 'linear', 'C': 10}, mean: 0.81013, std: 0.00372, params: {'gamma': 0.1, 'kernel': 'poly', 'C': 10}, mean: 0.80840, std: 0.00381, params: {'gamma': 0.1, 'kernel': 'sigmoid', 'C': 10}, mean: 0.81007, std: 0.00381, params: {'gamma': 0.001, 'kernel': 'rbf', 'C': 10}, mean: 0.81405, std: 0.00397, params: {'gamma': 0.001, 'kernel': 'linear', 'C': 10}, mean: 0.53359, std: 0.00001, params: {'gamma': 0.001, 'kernel': 'poly', 'C': 10}, mean: 0.81034, std: 0.00394, params: {'gamma': 0.001, 'kernel': 'sigmoid', 'C': 10}, mean: 0.81685, std: 0.00535, params: {'gamma': 1, 'kernel': 'rbf', 'C': 100}, mean: 0.81527, std: 0.00378, params: {'gamma': 1, 'kernel': 'linear', 'C': 100}, mean: 0.81551, std: 0.00419, params: {'gamma': 1, 'kernel': 'poly', 'C': 100}, mean: 0.53766, std: 0.00263, params: {'gamma': 1, 'kernel': 'sigmoid', 'C': 100}, mean: 0.81432, std: 0.00338, params: {'gamma': 0.1, 'kernel': 'rbf', 'C': 100}, mean: 0.81527, std: 0.00378, params: {'gamma': 0.1, 'kernel': 'linear', 'C': 100}, mean: 0.81043, std: 0.00397, params: {'gamma': 0.1, 'kernel': 'poly', 'C': 100}, mean: 0.75289, std: 0.00548, params: {'gamma': 0.1, 'kernel': 'sigmoid', 'C': 100}, mean: 0.81134, std: 0.00463, params: {'gamma': 0.001, 'kernel': 'rbf', 'C': 100}, mean: 0.81527, std: 0.00378, params: {'gamma': 0.001, 'kernel': 'linear', 'C': 100}, mean: 0.53359, std: 0.00001, params: {'gamma': 0.001, 'kernel': 'poly', 'C': 100}, mean: 0.81071, std: 0.00409, params: {'gamma': 0.001, 'kernel': 'sigmoid', 'C': 100}]\n",
      "Best parameters set found on development set:\n",
      "\n",
      "{'gamma': 1, 'kernel': 'rbf', 'C': 100}\n",
      "Grid best score:\n",
      "\n",
      "0.8168470330739299\n"
     ]
    }
   ],
   "source": [
    "grid.fit(X_impor, y_impor)  \n",
    "print('')\n",
    "print(\"Grid scores on development set:\")\n",
    "print('')  \n",
    "print(grid.grid_scores_ ) \n",
    "print(\"Best parameters set found on development set:\")\n",
    "print('')\n",
    "print(grid.best_params_)\n",
    "print(\"Grid best score:\")\n",
    "print('')\n",
    "print (grid.best_score_)"
   ]
  },
  {
   "cell_type": "markdown",
   "metadata": {},
   "source": [
    "# SVM for daily data with feature importances"
   ]
  },
  {
   "cell_type": "code",
   "execution_count": 30,
   "metadata": {
    "collapsed": true
   },
   "outputs": [],
   "source": [
    "daily_data=pd.read_csv('/Users/dingding/Desktop/GIIIUS_daily_new.csv')\n",
    "null_columns=daily_data.columns[daily_data.isnull().any()]\n",
    "daily_data[null_columns].isnull().sum()\n",
    "daily_data=daily_data.dropna(subset = ['Donchian_3'])\n",
    "daily_data_impor=daily_data.drop(['field','high','close','low','open','volume','CUR_MKT_CAP','PE_RATIO','RETURN_COM_EQY','EBITDA','IS_EPS','PROF_MARGIN','ROC_3','Return_3',\n",
    "                                  'cap/ebitda','close/ebitda','cap/EPS','close/EPS','cap/ROE',\n",
    "                                  'close/ROE','cap/pro','close/pro','return/ebitda','return/EPS','return/pro','return/ROE'],axis = 1)\n",
    "daily_features_impor=daily_data_impor.iloc[:,0:-1]\n",
    "daily_labels_impor=daily_data_impor.iloc[:,-1]\n",
    "min_max_scaler = preprocessing.MinMaxScaler()\n",
    "np_scaled = min_max_scaler.fit_transform(daily_features_impor)\n",
    "daily_featuresimport_normalized = pd.DataFrame(np_scaled)\n",
    "\n"
   ]
  },
  {
   "cell_type": "code",
   "execution_count": 31,
   "metadata": {
    "collapsed": true
   },
   "outputs": [],
   "source": [
    "X_dailyimpor, X_dailyimpor_test, y_dailyimpor, y_dailyimpor_test = train_test_split(daily_featuresimport_normalized, daily_labels_impor, test_size = 0.20)  "
   ]
  },
  {
   "cell_type": "code",
   "execution_count": 16,
   "metadata": {},
   "outputs": [
    {
     "name": "stdout",
     "output_type": "stream",
     "text": [
      "{'gamma': [1, 0.1, 0.001], 'C': [1, 10, 100], 'kernel': ['rbf', 'linear', 'poly', 'sigmoid']}\n"
     ]
    }
   ],
   "source": [
    "k=['rbf', 'linear','poly','sigmoid']\n",
    "c= [1,10,100]\n",
    "g=[1,0.1,0.001]\n",
    "param_grid=dict(kernel=k, C=c, gamma=g)\n",
    "print(param_grid)\n",
    "svr=svm.SVC()\n",
    "grid = GridSearchCV(svr, param_grid, cv=5,scoring='accuracy')"
   ]
  },
  {
   "cell_type": "code",
   "execution_count": 17,
   "metadata": {},
   "outputs": [
    {
     "name": "stdout",
     "output_type": "stream",
     "text": [
      "\n",
      "Grid scores on development set:\n",
      "\n",
      "[mean: 0.76846, std: 0.00848, params: {'gamma': 1, 'kernel': 'rbf', 'C': 1}, mean: 0.76941, std: 0.00833, params: {'gamma': 1, 'kernel': 'linear', 'C': 1}, mean: 0.77434, std: 0.00940, params: {'gamma': 1, 'kernel': 'poly', 'C': 1}, mean: 0.47998, std: 0.01701, params: {'gamma': 1, 'kernel': 'sigmoid', 'C': 1}, mean: 0.76884, std: 0.00674, params: {'gamma': 0.1, 'kernel': 'rbf', 'C': 1}, mean: 0.76941, std: 0.00833, params: {'gamma': 0.1, 'kernel': 'linear', 'C': 1}, mean: 0.75195, std: 0.00803, params: {'gamma': 0.1, 'kernel': 'poly', 'C': 1}, mean: 0.76637, std: 0.00762, params: {'gamma': 0.1, 'kernel': 'sigmoid', 'C': 1}, mean: 0.76561, std: 0.01091, params: {'gamma': 0.001, 'kernel': 'rbf', 'C': 1}, mean: 0.76941, std: 0.00833, params: {'gamma': 0.001, 'kernel': 'linear', 'C': 1}, mean: 0.53521, std: 0.00020, params: {'gamma': 0.001, 'kernel': 'poly', 'C': 1}, mean: 0.63504, std: 0.00729, params: {'gamma': 0.001, 'kernel': 'sigmoid', 'C': 1}, mean: 0.77529, std: 0.00829, params: {'gamma': 1, 'kernel': 'rbf', 'C': 10}, mean: 0.77719, std: 0.00842, params: {'gamma': 1, 'kernel': 'linear', 'C': 10}, mean: 0.78079, std: 0.00742, params: {'gamma': 1, 'kernel': 'poly', 'C': 10}, mean: 0.47409, std: 0.01622, params: {'gamma': 1, 'kernel': 'sigmoid', 'C': 10}, mean: 0.77035, std: 0.01018, params: {'gamma': 0.1, 'kernel': 'rbf', 'C': 10}, mean: 0.77719, std: 0.00842, params: {'gamma': 0.1, 'kernel': 'linear', 'C': 10}, mean: 0.76409, std: 0.01309, params: {'gamma': 0.1, 'kernel': 'poly', 'C': 10}, mean: 0.76903, std: 0.00894, params: {'gamma': 0.1, 'kernel': 'sigmoid', 'C': 10}, mean: 0.76656, std: 0.00725, params: {'gamma': 0.001, 'kernel': 'rbf', 'C': 10}, mean: 0.77719, std: 0.00842, params: {'gamma': 0.001, 'kernel': 'linear', 'C': 10}, mean: 0.53521, std: 0.00020, params: {'gamma': 0.001, 'kernel': 'poly', 'C': 10}, mean: 0.76694, std: 0.00788, params: {'gamma': 0.001, 'kernel': 'sigmoid', 'C': 10}, mean: 0.78630, std: 0.00807, params: {'gamma': 1, 'kernel': 'rbf', 'C': 100}, mean: 0.78592, std: 0.00816, params: {'gamma': 1, 'kernel': 'linear', 'C': 100}, mean: 0.79351, std: 0.00532, params: {'gamma': 1, 'kernel': 'poly', 'C': 100}, mean: 0.47314, std: 0.01681, params: {'gamma': 1, 'kernel': 'sigmoid', 'C': 100}, mean: 0.77890, std: 0.00766, params: {'gamma': 0.1, 'kernel': 'rbf', 'C': 100}, mean: 0.78592, std: 0.00816, params: {'gamma': 0.1, 'kernel': 'linear', 'C': 100}, mean: 0.76941, std: 0.00865, params: {'gamma': 0.1, 'kernel': 'poly', 'C': 100}, mean: 0.71152, std: 0.01585, params: {'gamma': 0.1, 'kernel': 'sigmoid', 'C': 100}, mean: 0.76846, std: 0.00779, params: {'gamma': 0.001, 'kernel': 'rbf', 'C': 100}, mean: 0.78592, std: 0.00816, params: {'gamma': 0.001, 'kernel': 'linear', 'C': 100}, mean: 0.53521, std: 0.00020, params: {'gamma': 0.001, 'kernel': 'poly', 'C': 100}, mean: 0.76770, std: 0.00821, params: {'gamma': 0.001, 'kernel': 'sigmoid', 'C': 100}]\n",
      "Best parameters set found on development set:\n",
      "\n",
      "{'gamma': 1, 'kernel': 'poly', 'C': 100}\n",
      "Grid best score:\n",
      "\n",
      "0.7935092047826912\n"
     ]
    }
   ],
   "source": [
    "grid.fit(X_dailyimpor, y_dailyimpor)  \n",
    "print('')\n",
    "print(\"Grid scores on development set:\")\n",
    "print('')  \n",
    "print(grid.grid_scores_ ) \n",
    "print(\"Best parameters set found on development set:\")\n",
    "print('')\n",
    "print(grid.best_params_)\n",
    "print(\"Grid best score:\")\n",
    "print('')\n",
    "print (grid.best_score_)"
   ]
  },
  {
   "cell_type": "code",
   "execution_count": 32,
   "metadata": {},
   "outputs": [
    {
     "name": "stdout",
     "output_type": "stream",
     "text": [
      "[[453 174]\n",
      " [137 554]]\n",
      "             precision    recall  f1-score   support\n",
      "\n",
      "         -1       0.77      0.72      0.74       627\n",
      "          1       0.76      0.80      0.78       691\n",
      "\n",
      "avg / total       0.76      0.76      0.76      1318\n",
      "\n",
      "0.7640364188163885\n"
     ]
    }
   ],
   "source": [
    "clf = svm.SVC()\n",
    "clf.fit(X_dailyimpor, y_dailyimpor)  \n",
    "y_dailypred = clf.predict(X_dailyimpor_test)  \n",
    "print(confusion_matrix(y_dailyimpor_test,y_dailypred))  \n",
    "print(classification_report(y_dailyimpor_test,y_dailypred)) \n",
    "print (accuracy_score(y_dailyimpor_test, y_dailypred))"
   ]
  },
  {
   "cell_type": "code",
   "execution_count": null,
   "metadata": {
    "collapsed": true
   },
   "outputs": [],
   "source": []
  }
 ],
 "metadata": {
  "kernelspec": {
   "display_name": "Python [conda env:anaconda]",
   "language": "python",
   "name": "conda-env-anaconda-py"
  },
  "language_info": {
   "codemirror_mode": {
    "name": "ipython",
    "version": 3
   },
   "file_extension": ".py",
   "mimetype": "text/x-python",
   "name": "python",
   "nbconvert_exporter": "python",
   "pygments_lexer": "ipython3",
   "version": "3.5.3"
  }
 },
 "nbformat": 4,
 "nbformat_minor": 2
}
