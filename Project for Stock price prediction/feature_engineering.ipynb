{
 "cells": [
  {
   "cell_type": "code",
   "execution_count": 64,
   "metadata": {
    "collapsed": true
   },
   "outputs": [],
   "source": [
    "import math as m\n",
    "from pandas import Series, DataFrame, Panel\n",
    "from datetime import datetime, date, time\n",
    "import pandas as pd"
   ]
  },
  {
   "cell_type": "code",
   "execution_count": 2,
   "metadata": {},
   "outputs": [
    {
     "ename": "ImportError",
     "evalue": "No module named 'blpapi'",
     "output_type": "error",
     "traceback": [
      "\u001b[0;31m---------------------------------------------------------------------------\u001b[0m",
      "\u001b[0;31mImportError\u001b[0m                               Traceback (most recent call last)",
      "\u001b[0;32m<ipython-input-2-bc87dc92e0ed>\u001b[0m in \u001b[0;36m<module>\u001b[0;34m()\u001b[0m\n\u001b[0;32m----> 1\u001b[0;31m \u001b[0;32mimport\u001b[0m \u001b[0mpybbg\u001b[0m\u001b[0;34m\u001b[0m\u001b[0m\n\u001b[0m\u001b[1;32m      2\u001b[0m \u001b[0;32mfrom\u001b[0m \u001b[0mpandas\u001b[0m \u001b[0;32mimport\u001b[0m \u001b[0mSeries\u001b[0m\u001b[0;34m,\u001b[0m \u001b[0mDataFrame\u001b[0m\u001b[0;34m,\u001b[0m \u001b[0mPanel\u001b[0m\u001b[0;34m\u001b[0m\u001b[0m\n\u001b[1;32m      3\u001b[0m \u001b[0;32mfrom\u001b[0m \u001b[0mdatetime\u001b[0m \u001b[0;32mimport\u001b[0m \u001b[0mdatetime\u001b[0m\u001b[0;34m,\u001b[0m \u001b[0mdate\u001b[0m\u001b[0;34m,\u001b[0m \u001b[0mtime\u001b[0m\u001b[0;34m\u001b[0m\u001b[0m\n\u001b[1;32m      4\u001b[0m \u001b[0;32mimport\u001b[0m \u001b[0mpandas\u001b[0m \u001b[0;32mas\u001b[0m \u001b[0mpd\u001b[0m\u001b[0;34m\u001b[0m\u001b[0m\n\u001b[1;32m      5\u001b[0m \u001b[0;34m\u001b[0m\u001b[0m\n",
      "\u001b[0;32m/Users/dingding/anaconda/lib/python3.5/site-packages/pybbg/__init__.py\u001b[0m in \u001b[0;36m<module>\u001b[0;34m()\u001b[0m\n\u001b[1;32m      6\u001b[0m \"\"\"\n\u001b[1;32m      7\u001b[0m \u001b[0;34m\u001b[0m\u001b[0m\n\u001b[0;32m----> 8\u001b[0;31m \u001b[0;32mfrom\u001b[0m \u001b[0;34m.\u001b[0m\u001b[0mpybbg_k\u001b[0m \u001b[0;32mimport\u001b[0m \u001b[0mPybbg\u001b[0m\u001b[0;34m\u001b[0m\u001b[0m\n\u001b[0m",
      "\u001b[0;32m/Users/dingding/anaconda/lib/python3.5/site-packages/pybbg/pybbg_k.py\u001b[0m in \u001b[0;36m<module>\u001b[0;34m()\u001b[0m\n\u001b[1;32m      6\u001b[0m \u001b[0;34m\u001b[0m\u001b[0m\n\u001b[1;32m      7\u001b[0m \u001b[0;32mfrom\u001b[0m \u001b[0m__future__\u001b[0m \u001b[0;32mimport\u001b[0m \u001b[0mprint_function\u001b[0m\u001b[0;34m\u001b[0m\u001b[0m\n\u001b[0;32m----> 8\u001b[0;31m \u001b[0;32mimport\u001b[0m \u001b[0mblpapi\u001b[0m\u001b[0;34m\u001b[0m\u001b[0m\n\u001b[0m\u001b[1;32m      9\u001b[0m \u001b[0;32mfrom\u001b[0m \u001b[0mcollections\u001b[0m \u001b[0;32mimport\u001b[0m \u001b[0mdefaultdict\u001b[0m\u001b[0;34m\u001b[0m\u001b[0m\n\u001b[1;32m     10\u001b[0m \u001b[0;32mfrom\u001b[0m \u001b[0mpandas\u001b[0m \u001b[0;32mimport\u001b[0m \u001b[0mDataFrame\u001b[0m\u001b[0;34m\u001b[0m\u001b[0m\n",
      "\u001b[0;31mImportError\u001b[0m: No module named 'blpapi'"
     ]
    }
   ],
   "source": [
    "import pybbg \n",
    "from pandas import Series, DataFrame, Panel\n",
    "from datetime import datetime, date, time\n",
    "import pandas as pd\n",
    "\n"
   ]
  },
  {
   "cell_type": "code",
   "execution_count": 101,
   "metadata": {
    "collapsed": true
   },
   "outputs": [],
   "source": [
    "bbg = pybbg.Pybbg()\n",
    "bbg.service_refData()"
   ]
  },
  {
   "cell_type": "code",
   "execution_count": 112,
   "metadata": {
    "collapsed": true
   },
   "outputs": [],
   "source": [
    "ticker = 'GIII US Equity'\n",
    "fld_list = ['open', 'high', 'low', 'close','volume']"
   ]
  },
  {
   "cell_type": "code",
   "execution_count": 113,
   "metadata": {
    "collapsed": true
   },
   "outputs": [],
   "source": [
    "gii=bbg.bdib(ticker, fld_list, datetime(2016,7,8,0,0), datetime(2018,7,8,0,0), eventType='TRADE', interval = 1)"
   ]
  },
  {
   "cell_type": "code",
   "execution_count": 105,
   "metadata": {
    "collapsed": true
   },
   "outputs": [],
   "source": [
    "gii.to_csv('C:/Users/yuanding/Desktop/GIII.csv')"
   ]
  },
  {
   "cell_type": "code",
   "execution_count": 122,
   "metadata": {
    "collapsed": true
   },
   "outputs": [],
   "source": [
    "ticker = 'INDU Index'\n",
    "fld_list = ['open', 'high', 'low', 'close']"
   ]
  },
  {
   "cell_type": "code",
   "execution_count": 127,
   "metadata": {
    "collapsed": true
   },
   "outputs": [],
   "source": [
    "index=bbg.bdib(ticker, fld_list, datetime(2016,7,8,0,0), datetime(2018,7,5,0,0), eventType='TRADE', interval = 1)"
   ]
  },
  {
   "cell_type": "markdown",
   "metadata": {},
   "source": [
    "# Technical indicators "
   ]
  },
  {
   "cell_type": "markdown",
   "metadata": {},
   "source": [
    "https://www.quantopian.com/posts/technical-analysis-indicators-without-talib-code"
   ]
  },
  {
   "cell_type": "markdown",
   "metadata": {},
   "source": [
    "https://www.quantinsti.com/blog/build-technical-indicators-in-python/ "
   ]
  },
  {
   "cell_type": "code",
   "execution_count": 137,
   "metadata": {
    "collapsed": true
   },
   "outputs": [],
   "source": [
    "data=pd.read_csv('/Users/dingding/Desktop/GIIIUS_daily.csv')"
   ]
  },
  {
   "cell_type": "code",
   "execution_count": 138,
   "metadata": {},
   "outputs": [
    {
     "data": {
      "text/plain": [
       "high           253\n",
       "close          311\n",
       "low            262\n",
       "volume         311\n",
       "CUR_MKT_CAP     32\n",
       "PE_RATIO       315\n",
       "dtype: int64"
      ]
     },
     "execution_count": 138,
     "metadata": {},
     "output_type": "execute_result"
    }
   ],
   "source": [
    "null_columns=data.columns[data.isnull().any()]\n",
    "data[null_columns].isnull().sum()"
   ]
  },
  {
   "cell_type": "code",
   "execution_count": 140,
   "metadata": {},
   "outputs": [],
   "source": [
    "data=data.dropna(subset = ['high', 'close','low','volume','CUR_MKT_CAP','PE_RATIO'])"
   ]
  },
  {
   "cell_type": "code",
   "execution_count": 141,
   "metadata": {
    "collapsed": true
   },
   "outputs": [],
   "source": [
    "data.to_csv('/Users/dingding/Desktop/GIIIUS_daily.csv')"
   ]
  },
  {
   "cell_type": "code",
   "execution_count": 142,
   "metadata": {
    "collapsed": true
   },
   "outputs": [],
   "source": [
    "data=pd.read_csv('/Users/dingding/Desktop/GIIIUS_daily.csv')"
   ]
  },
  {
   "cell_type": "markdown",
   "metadata": {},
   "source": [
    "## Indicators: Trend "
   ]
  },
  {
   "cell_type": "code",
   "execution_count": 144,
   "metadata": {},
   "outputs": [
    {
     "name": "stderr",
     "output_type": "stream",
     "text": [
      "/Users/dingding/anaconda/lib/python3.5/site-packages/ipykernel/__main__.py:3: FutureWarning: pd.rolling_mean is deprecated for Series and will be removed in a future version, replace with \n",
      "\tSeries.rolling(window=3,center=False).mean()\n",
      "  app.launch_new_instance()\n"
     ]
    }
   ],
   "source": [
    "#Compute the Moving Average  \n",
    "def MA(df, n): \n",
    "    MA = pd.Series(pd.rolling_mean(df['close'], n), name = 'MA_' + str(n))  \n",
    "    df = df.join(MA)  \n",
    "    return df\n",
    "n=3\n",
    "MA = MA(data,n)\n",
    "MA.to_csv('/Users/dingding/Desktop/GIIIUS_daily.csv')"
   ]
  },
  {
   "cell_type": "code",
   "execution_count": 145,
   "metadata": {
    "collapsed": true
   },
   "outputs": [],
   "source": [
    "data=pd.read_csv('/Users/dingding/Desktop/GIIIUS_daily.csv')"
   ]
  },
  {
   "cell_type": "code",
   "execution_count": 146,
   "metadata": {},
   "outputs": [
    {
     "name": "stderr",
     "output_type": "stream",
     "text": [
      "/Users/dingding/anaconda/lib/python3.5/site-packages/ipykernel/__main__.py:6: FutureWarning: get_value is deprecated and will be removed in a future release. Please use .at[] or .iat[] accessors instead\n",
      "/Users/dingding/anaconda/lib/python3.5/site-packages/ipykernel/__main__.py:12: FutureWarning: get_value is deprecated and will be removed in a future release. Please use .at[] or .iat[] accessors instead\n",
      "/Users/dingding/anaconda/lib/python3.5/site-packages/ipykernel/__main__.py:15: FutureWarning: pd.rolling_sum is deprecated for Series and will be removed in a future version, replace with \n",
      "\tSeries.rolling(window=3,center=False).sum()\n"
     ]
    }
   ],
   "source": [
    "#Vortex Indicator: http://www.vortexindicator.com/VFX_VORTEX.PDF  delete\n",
    "def Vortex(df, n):  \n",
    "    i = 0  \n",
    "    TR = [0]  \n",
    "    while i < df.index[-1]:  \n",
    "        Range = max(df.get_value(i + 1, 'high'), df.get_value(i, 'close')) - min(df.get_value(i + 1, 'low'), df.get_value(i, 'close'))  \n",
    "        TR.append(Range)  \n",
    "        i = i + 1  \n",
    "    i = 0  \n",
    "    VM = [0]  \n",
    "    while i < df.index[-1]:  \n",
    "        Range = abs(df.get_value(i + 1, 'high') - df.get_value(i, 'low')) - abs(df.get_value(i + 1, 'low') - df.get_value(i, 'high'))  \n",
    "        VM.append(Range)  \n",
    "        i = i + 1  \n",
    "    VI = pd.Series(pd.rolling_sum(pd.Series(VM), n) / pd.rolling_sum(pd.Series(TR), n), name = 'Vortex_' + str(n))  \n",
    "    df = df.join(VI)  \n",
    "    return df\n",
    "n=3\n",
    "Vortex=Vortex(data,n)\n",
    "Vortex.to_csv('/Users/dingding/Desktop/GIIIUS_daily.csv')"
   ]
  },
  {
   "cell_type": "code",
   "execution_count": 147,
   "metadata": {
    "collapsed": true
   },
   "outputs": [],
   "source": [
    "data=pd.read_csv('/Users/dingding/Desktop/GIIIUS_daily.csv')"
   ]
  },
  {
   "cell_type": "code",
   "execution_count": 148,
   "metadata": {},
   "outputs": [
    {
     "name": "stderr",
     "output_type": "stream",
     "text": [
      "/Users/dingding/anaconda/lib/python3.5/site-packages/ipykernel/__main__.py:3: FutureWarning: pd.ewm_mean is deprecated for Series and will be removed in a future version, replace with \n",
      "\tSeries.ewm(span=3,ignore_na=False,min_periods=2,adjust=True).mean()\n",
      "  app.launch_new_instance()\n",
      "/Users/dingding/anaconda/lib/python3.5/site-packages/ipykernel/__main__.py:4: FutureWarning: pd.ewm_mean is deprecated for Series and will be removed in a future version, replace with \n",
      "\tSeries.ewm(span=3,ignore_na=False,min_periods=2,adjust=True).mean()\n",
      "/Users/dingding/anaconda/lib/python3.5/site-packages/ipykernel/__main__.py:5: FutureWarning: pd.ewm_mean is deprecated for Series and will be removed in a future version, replace with \n",
      "\tSeries.ewm(span=3,ignore_na=False,min_periods=2,adjust=True).mean()\n"
     ]
    }
   ],
   "source": [
    "#Trix  \n",
    "def TRIX(df, n):  \n",
    "    EX1 = pd.ewma(df['close'], span = n, min_periods = n - 1)  \n",
    "    EX2 = pd.ewma(EX1, span = n, min_periods = n - 1)  \n",
    "    EX3 = pd.ewma(EX2, span = n, min_periods = n - 1)  \n",
    "    i = 0  \n",
    "    ROC_l = [0]  \n",
    "    while i + 1 <= df.index[-1]:  \n",
    "        ROC = (EX3[i + 1] - EX3[i]) / EX3[i]  \n",
    "        ROC_l.append(ROC)  \n",
    "        i = i + 1  \n",
    "    Trix = pd.Series(ROC_l, name = 'Trix_' + str(n))  \n",
    "    df = df.join(Trix)  \n",
    "    return df\n",
    "n=3\n",
    "TRIX=TRIX(data, n)\n",
    "TRIX.to_csv('/Users/dingding/Desktop/GIIIUS_daily.csv')"
   ]
  },
  {
   "cell_type": "code",
   "execution_count": 149,
   "metadata": {
    "collapsed": true
   },
   "outputs": [],
   "source": [
    "data=pd.read_csv('/Users/dingding/Desktop/GIIIUS_daily.csv')"
   ]
  },
  {
   "cell_type": "code",
   "execution_count": 150,
   "metadata": {},
   "outputs": [
    {
     "name": "stderr",
     "output_type": "stream",
     "text": [
      "/Users/dingding/anaconda/lib/python3.5/site-packages/ipykernel/__main__.py:3: FutureWarning: pd.ewm_mean is deprecated for Series and will be removed in a future version, replace with \n",
      "\tSeries.ewm(span=1,ignore_na=False,min_periods=3,adjust=True).mean()\n",
      "  app.launch_new_instance()\n",
      "/Users/dingding/anaconda/lib/python3.5/site-packages/ipykernel/__main__.py:4: FutureWarning: pd.ewm_mean is deprecated for Series and will be removed in a future version, replace with \n",
      "\tSeries.ewm(span=4,ignore_na=False,min_periods=3,adjust=True).mean()\n"
     ]
    }
   ],
   "source": [
    "#MACD, MACD Signal and MACD difference  \n",
    "def MACD(df, n_fast, n_slow):  \n",
    "    EMAfast = pd.Series(pd.ewma(df['close'], span = n_fast, min_periods = n_slow - 1))  \n",
    "    EMAslow = pd.Series(pd.ewma(df['close'], span = n_slow, min_periods = n_slow - 1))  \n",
    "    MACD = pd.Series(EMAfast - EMAslow, name = 'MACD_' + str(n_fast) + '_' + str(n_slow))  \n",
    "    df = df.join(MACD)  \n",
    "    return df\n",
    "\n",
    "MACD=MACD(data,1,4)\n",
    "MACD.to_csv('/Users/dingding/Desktop/GIIIUS_daily.csv')"
   ]
  },
  {
   "cell_type": "markdown",
   "metadata": {},
   "source": [
    "## INDICATORS: Momentum"
   ]
  },
  {
   "cell_type": "code",
   "execution_count": 151,
   "metadata": {
    "collapsed": true
   },
   "outputs": [],
   "source": [
    "data=pd.read_csv('/Users/dingding/Desktop/GIIIUS_daily.csv')"
   ]
  },
  {
   "cell_type": "code",
   "execution_count": 152,
   "metadata": {
    "collapsed": true
   },
   "outputs": [],
   "source": [
    "#Momentum  \n",
    "def MOM(df, n):  \n",
    "    M = pd.Series(df['close'].diff(n), name = 'Momentum_' + str(n))  \n",
    "    df = df.join(M)  \n",
    "    return df\n",
    "n=3\n",
    "MOM = MOM(data,n)\n",
    "MOM.to_csv('/Users/dingding/Desktop/GIII.csv')"
   ]
  },
  {
   "cell_type": "code",
   "execution_count": 153,
   "metadata": {
    "collapsed": true
   },
   "outputs": [],
   "source": [
    "data=pd.read_csv('/Users/dingding/Desktop/GIIIUS_daily.csv')"
   ]
  },
  {
   "cell_type": "code",
   "execution_count": 154,
   "metadata": {},
   "outputs": [
    {
     "name": "stderr",
     "output_type": "stream",
     "text": [
      "/Users/dingding/anaconda/lib/python3.5/site-packages/ipykernel/__main__.py:7: FutureWarning: get_value is deprecated and will be removed in a future release. Please use .at[] or .iat[] accessors instead\n",
      "/Users/dingding/anaconda/lib/python3.5/site-packages/ipykernel/__main__.py:8: FutureWarning: get_value is deprecated and will be removed in a future release. Please use .at[] or .iat[] accessors instead\n",
      "/Users/dingding/anaconda/lib/python3.5/site-packages/ipykernel/__main__.py:20: FutureWarning: pd.ewm_mean is deprecated for Series and will be removed in a future version, replace with \n",
      "\tSeries.ewm(span=3,ignore_na=False,min_periods=2,adjust=True).mean()\n",
      "/Users/dingding/anaconda/lib/python3.5/site-packages/ipykernel/__main__.py:21: FutureWarning: pd.ewm_mean is deprecated for Series and will be removed in a future version, replace with \n",
      "\tSeries.ewm(span=3,ignore_na=False,min_periods=2,adjust=True).mean()\n"
     ]
    }
   ],
   "source": [
    "#Relative Strength Index  \n",
    "def RSI(df, n):  \n",
    "    i = 0  \n",
    "    UpI = [0]  \n",
    "    DoI = [0]  \n",
    "    while i + 1 <= df.index[-1]:  \n",
    "        UpMove = df.get_value(i + 1, 'high') - df.get_value(i, 'high')  \n",
    "        DoMove = df.get_value(i, 'low') - df.get_value(i + 1, 'low')  \n",
    "        if UpMove > DoMove and UpMove > 0:  \n",
    "            UpD = UpMove  \n",
    "        else: UpD = 0  \n",
    "        UpI.append(UpD)  \n",
    "        if DoMove > UpMove and DoMove > 0:  \n",
    "            DoD = DoMove  \n",
    "        else: DoD = 0  \n",
    "        DoI.append(DoD)  \n",
    "        i = i + 1  \n",
    "    UpI = pd.Series(UpI)  \n",
    "    DoI = pd.Series(DoI)  \n",
    "    PosDI = pd.Series(pd.ewma(UpI, span = n, min_periods = n - 1))  \n",
    "    NegDI = pd.Series(pd.ewma(DoI, span = n, min_periods = n - 1))  \n",
    "    RSI = pd.Series(PosDI / (PosDI + NegDI), name = 'RSI_' + str(n))  \n",
    "    df = df.join(RSI)  \n",
    "    return df\n",
    "n=3\n",
    "RSI = RSI(data,n)\n",
    "RSI.to_csv('/Users/dingding/Desktop/GIIIUS_daily.csv')"
   ]
  },
  {
   "cell_type": "markdown",
   "metadata": {},
   "source": [
    "## INDICATORS: Volume "
   ]
  },
  {
   "cell_type": "code",
   "execution_count": 155,
   "metadata": {
    "collapsed": true
   },
   "outputs": [],
   "source": [
    "data=pd.read_csv('/Users/dingding/Desktop/GIIIUS_daily.csv')"
   ]
  },
  {
   "cell_type": "code",
   "execution_count": 156,
   "metadata": {},
   "outputs": [
    {
     "name": "stderr",
     "output_type": "stream",
     "text": [
      "/Users/dingding/anaconda/lib/python3.5/site-packages/ipykernel/__main__.py:8: FutureWarning: get_value is deprecated and will be removed in a future release. Please use .at[] or .iat[] accessors instead\n",
      "/Users/dingding/anaconda/lib/python3.5/site-packages/ipykernel/__main__.py:15: FutureWarning: pd.rolling_mean is deprecated for Series and will be removed in a future version, replace with \n",
      "\tSeries.rolling(window=3,center=False).mean()\n"
     ]
    }
   ],
   "source": [
    "#Money Flow Index and Ratio  \n",
    "def MFI(df, n):  \n",
    "    PP = (df['high'] + df['low'] + df['close']) / 3  \n",
    "    i = 0  \n",
    "    PosMF = [0]  \n",
    "    while i < df.index[-1]:  \n",
    "        if PP[i + 1] > PP[i]:  \n",
    "            PosMF.append(PP[i + 1] * df.get_value(i + 1, 'volume'))  \n",
    "        else:  \n",
    "            PosMF.append(0)  \n",
    "        i = i + 1  \n",
    "    PosMF = pd.Series(PosMF)  \n",
    "    TotMF = PP * df['volume']  \n",
    "    MFR = pd.Series(PosMF / TotMF)  \n",
    "    MFI = pd.Series(pd.rolling_mean(MFR, n), name = 'MFI_' + str(n))  \n",
    "    df = df.join(MFI)  \n",
    "    return df\n",
    "n=3\n",
    "MFI = MFI(data,n)\n",
    "MFI.to_csv('/Users/dingding/Desktop/GIIIUS_daily.csv')"
   ]
  },
  {
   "cell_type": "code",
   "execution_count": 157,
   "metadata": {
    "collapsed": true
   },
   "outputs": [],
   "source": [
    "data=pd.read_csv('/Users/dingding/Desktop/GIIIUS_daily.csv')"
   ]
  },
  {
   "cell_type": "code",
   "execution_count": 158,
   "metadata": {},
   "outputs": [
    {
     "name": "stderr",
     "output_type": "stream",
     "text": [
      "/Users/dingding/anaconda/lib/python3.5/site-packages/ipykernel/__main__.py:6: FutureWarning: get_value is deprecated and will be removed in a future release. Please use .at[] or .iat[] accessors instead\n",
      "/Users/dingding/anaconda/lib/python3.5/site-packages/ipykernel/__main__.py:7: FutureWarning: get_value is deprecated and will be removed in a future release. Please use .at[] or .iat[] accessors instead\n",
      "/Users/dingding/anaconda/lib/python3.5/site-packages/ipykernel/__main__.py:8: FutureWarning: get_value is deprecated and will be removed in a future release. Please use .at[] or .iat[] accessors instead\n",
      "/Users/dingding/anaconda/lib/python3.5/site-packages/ipykernel/__main__.py:10: FutureWarning: get_value is deprecated and will be removed in a future release. Please use .at[] or .iat[] accessors instead\n",
      "/Users/dingding/anaconda/lib/python3.5/site-packages/ipykernel/__main__.py:11: FutureWarning: get_value is deprecated and will be removed in a future release. Please use .at[] or .iat[] accessors instead\n",
      "/Users/dingding/anaconda/lib/python3.5/site-packages/ipykernel/__main__.py:14: FutureWarning: pd.rolling_mean is deprecated for Series and will be removed in a future version, replace with \n",
      "\tSeries.rolling(window=3,center=False).mean()\n"
     ]
    }
   ],
   "source": [
    "#On-balance Volume  \n",
    "def OBV(df, n):  \n",
    "    i = 0  \n",
    "    OBV = [0]  \n",
    "    while i < df.index[-1]:  \n",
    "        if df.get_value(i + 1, 'close') - df.get_value(i, 'close') > 0:  \n",
    "            OBV.append(df.get_value(i + 1, 'volume'))  \n",
    "        if df.get_value(i + 1, 'close') - df.get_value(i, 'close') == 0:  \n",
    "            OBV.append(0)  \n",
    "        if df.get_value(i + 1, 'close') - df.get_value(i, 'close') < 0:  \n",
    "            OBV.append(-df.get_value(i + 1, 'volume'))  \n",
    "        i = i + 1  \n",
    "    OBV = pd.Series(OBV)  \n",
    "    OBV_ma = pd.Series(pd.rolling_mean(OBV, n), name = 'OBV_' + str(n))  \n",
    "    df = df.join(OBV_ma)  \n",
    "    return df\n",
    "n=3\n",
    "OBV = OBV(data,n)\n",
    "OBV.to_csv('/Users/dingding/Desktop/GIIIUS_daily.csv')"
   ]
  },
  {
   "cell_type": "code",
   "execution_count": 159,
   "metadata": {
    "collapsed": true
   },
   "outputs": [],
   "source": [
    "data=pd.read_csv('/Users/dingding/Desktop/GIIIUS_daily.csv')"
   ]
  },
  {
   "cell_type": "code",
   "execution_count": 160,
   "metadata": {
    "collapsed": true
   },
   "outputs": [],
   "source": [
    "#Force Index  \n",
    "def FORCE(df, n):  \n",
    "    F = pd.Series(df['close'].diff(n) * df['volume'].diff(n), name = 'Force_' + str(n))  \n",
    "    df = df.join(F)  \n",
    "    return df\n",
    "n=3\n",
    "FORCE=FORCE(data, n)\n",
    "FORCE.to_csv('/Users/dingding/Desktop/GIIIUS_daily.csv')"
   ]
  },
  {
   "cell_type": "markdown",
   "metadata": {},
   "source": [
    "## INDICATORS: Volatility "
   ]
  },
  {
   "cell_type": "code",
   "execution_count": 161,
   "metadata": {
    "collapsed": true
   },
   "outputs": [],
   "source": [
    "data=pd.read_csv('/Users/dingding/Desktop/GIIIUS_daily.csv')"
   ]
  },
  {
   "cell_type": "code",
   "execution_count": 162,
   "metadata": {},
   "outputs": [
    {
     "name": "stderr",
     "output_type": "stream",
     "text": [
      "/Users/dingding/anaconda/lib/python3.5/site-packages/ipykernel/__main__.py:3: FutureWarning: pd.rolling_std is deprecated for Series and will be removed in a future version, replace with \n",
      "\tSeries.rolling(window=3,center=False).std()\n",
      "  app.launch_new_instance()\n"
     ]
    }
   ],
   "source": [
    "#Standard Deviation  \n",
    "def STDDEV(df, n):  \n",
    "    df = df.join(pd.Series(pd.rolling_std(df['close'], n), name = 'STD_' + str(n)))  \n",
    "    return df \n",
    "n = 3\n",
    "STDDEV = STDDEV(data, n)\n",
    "STDDEV.to_csv('/Users/dingding/Desktop/GIIIUS_daily.csv')"
   ]
  },
  {
   "cell_type": "code",
   "execution_count": 163,
   "metadata": {
    "collapsed": true
   },
   "outputs": [],
   "source": [
    "data=pd.read_csv('/Users/dingding/Desktop/GIIIUS_daily.csv')"
   ]
  },
  {
   "cell_type": "code",
   "execution_count": 164,
   "metadata": {},
   "outputs": [
    {
     "name": "stderr",
     "output_type": "stream",
     "text": [
      "/Users/dingding/anaconda/lib/python3.5/site-packages/ipykernel/__main__.py:10: DeprecationWarning: \n",
      ".ix is deprecated. Please use\n",
      ".loc for label based indexing or\n",
      ".iloc for positional indexing\n",
      "\n",
      "See the documentation here:\n",
      "http://pandas.pydata.org/pandas-docs/stable/indexing.html#ix-indexer-is-deprecated\n"
     ]
    }
   ],
   "source": [
    "#Donchian Channel  \n",
    "def DONCH(df, n):  \n",
    "    i = 0  \n",
    "    DC_l = []  \n",
    "    while i < n - 1:  \n",
    "        DC_l.append(0)  \n",
    "        i = i + 1  \n",
    "    i = 0  \n",
    "    while i + n - 1 < df.index[-1]:  \n",
    "        DC = max(df['high'].ix[i:i + n - 1]) - min(df['low'].ix[i:i + n - 1])  \n",
    "        DC_l.append(DC)  \n",
    "        i = i + 1  \n",
    "    DonCh = pd.Series(DC_l, name = 'Donchian_' + str(n))  \n",
    "    DonCh = DonCh.shift(n - 1)  \n",
    "    df = df.join(DonCh)  \n",
    "    return df\n",
    "n=3\n",
    "DONCH = DONCH(data,n)\n",
    "DONCH.to_csv('/Users/dingding/Desktop/GIIIUS_daily.csv')"
   ]
  },
  {
   "cell_type": "markdown",
   "metadata": {},
   "source": [
    "## INDICATORS: Other "
   ]
  },
  {
   "cell_type": "code",
   "execution_count": 165,
   "metadata": {
    "collapsed": true
   },
   "outputs": [],
   "source": [
    "data=pd.read_csv('/Users/dingding/Desktop/GIIIUS_daily.csv')"
   ]
  },
  {
   "cell_type": "code",
   "execution_count": 122,
   "metadata": {},
   "outputs": [
    {
     "ename": "NameError",
     "evalue": "name 'S' is not defined",
     "output_type": "error",
     "traceback": [
      "\u001b[0;31m---------------------------------------------------------------------------\u001b[0m",
      "\u001b[0;31mNameError\u001b[0m                                 Traceback (most recent call last)",
      "\u001b[0;32m<ipython-input-122-149e301d59c4>\u001b[0m in \u001b[0;36m<module>\u001b[0;34m()\u001b[0m\n\u001b[1;32m      1\u001b[0m \u001b[0;31m#Commodity Channel Index delete\u001b[0m\u001b[0;34m\u001b[0m\u001b[0;34m\u001b[0m\u001b[0m\n\u001b[0;32m----> 2\u001b[0;31m \u001b[0mS\u001b[0m\u001b[0;34m\u001b[0m\u001b[0m\n\u001b[0m\u001b[1;32m      3\u001b[0m \u001b[0;32mdef\u001b[0m \u001b[0mCCI\u001b[0m\u001b[0;34m(\u001b[0m\u001b[0mdf\u001b[0m\u001b[0;34m,\u001b[0m \u001b[0mn\u001b[0m\u001b[0;34m)\u001b[0m\u001b[0;34m:\u001b[0m\u001b[0;34m\u001b[0m\u001b[0m\n\u001b[1;32m      4\u001b[0m     \u001b[0mPP\u001b[0m \u001b[0;34m=\u001b[0m \u001b[0;34m(\u001b[0m\u001b[0mdf\u001b[0m\u001b[0;34m[\u001b[0m\u001b[0;34m'high'\u001b[0m\u001b[0;34m]\u001b[0m \u001b[0;34m+\u001b[0m \u001b[0mdf\u001b[0m\u001b[0;34m[\u001b[0m\u001b[0;34m'low'\u001b[0m\u001b[0;34m]\u001b[0m \u001b[0;34m+\u001b[0m \u001b[0mdf\u001b[0m\u001b[0;34m[\u001b[0m\u001b[0;34m'close'\u001b[0m\u001b[0;34m]\u001b[0m\u001b[0;34m)\u001b[0m \u001b[0;34m/\u001b[0m \u001b[0;36m3\u001b[0m\u001b[0;34m\u001b[0m\u001b[0m\n\u001b[1;32m      5\u001b[0m     \u001b[0mCCI\u001b[0m \u001b[0;34m=\u001b[0m \u001b[0mpd\u001b[0m\u001b[0;34m.\u001b[0m\u001b[0mSeries\u001b[0m\u001b[0;34m(\u001b[0m\u001b[0;34m(\u001b[0m\u001b[0mPP\u001b[0m \u001b[0;34m-\u001b[0m \u001b[0mpd\u001b[0m\u001b[0;34m.\u001b[0m\u001b[0mrolling_mean\u001b[0m\u001b[0;34m(\u001b[0m\u001b[0mPP\u001b[0m\u001b[0;34m,\u001b[0m \u001b[0mn\u001b[0m\u001b[0;34m)\u001b[0m\u001b[0;34m)\u001b[0m \u001b[0;34m/\u001b[0m \u001b[0;34m(\u001b[0m\u001b[0;36m0.015\u001b[0m \u001b[0;34m*\u001b[0m\u001b[0mpd\u001b[0m\u001b[0;34m.\u001b[0m\u001b[0mrolling_std\u001b[0m\u001b[0;34m(\u001b[0m\u001b[0mPP\u001b[0m\u001b[0;34m,\u001b[0m \u001b[0mn\u001b[0m\u001b[0;34m)\u001b[0m\u001b[0;34m)\u001b[0m\u001b[0;34m,\u001b[0m \u001b[0mname\u001b[0m \u001b[0;34m=\u001b[0m \u001b[0;34m'CCI_'\u001b[0m \u001b[0;34m+\u001b[0m \u001b[0mstr\u001b[0m\u001b[0;34m(\u001b[0m\u001b[0mn\u001b[0m\u001b[0;34m)\u001b[0m\u001b[0;34m)\u001b[0m\u001b[0;34m\u001b[0m\u001b[0m\n",
      "\u001b[0;31mNameError\u001b[0m: name 'S' is not defined"
     ]
    }
   ],
   "source": [
    "#Commodity Channel Index delete\n",
    "def CCI(df, n):  \n",
    "    PP = (df['high'] + df['low'] + df['close']) / 3  \n",
    "    CCI = pd.Series((PP - pd.rolling_mean(PP, n)) / (0.015 *pd.rolling_std(PP, n)), name = 'CCI_' + str(n))  \n",
    "    df = df.join(CCI)  \n",
    "    return df\n",
    "\n",
    "n = 3\n",
    "CCI= CCI(data, n)\n",
    "CCI.to_csv('/Users/dingding/Desktop/GIIIUS_daily.csv')"
   ]
  },
  {
   "cell_type": "code",
   "execution_count": 60,
   "metadata": {
    "collapsed": true
   },
   "outputs": [],
   "source": [
    "data=pd.read_csv('/Users/dingding/Desktop/GIIIUS_daily.csv')"
   ]
  },
  {
   "cell_type": "code",
   "execution_count": 166,
   "metadata": {
    "collapsed": true
   },
   "outputs": [],
   "source": [
    "#Rate of Change  \n",
    "def ROC(df, n):  \n",
    "    M = df['close'].diff(n - 1)  \n",
    "    N = df['close'].shift(n - 1)  \n",
    "    ROC = pd.Series(M / N, name = 'ROC_' + str(n))  \n",
    "    df = df.join(ROC)  \n",
    "    return df\n",
    "n=3\n",
    "ROC = ROC(data,n)\n",
    "ROC.to_csv('/Users/dingding/Desktop/GIIIUS_daily.csv')"
   ]
  },
  {
   "cell_type": "code",
   "execution_count": 180,
   "metadata": {
    "collapsed": true
   },
   "outputs": [],
   "source": [
    "data=pd.read_csv('/Users/dingding/Desktop/GIIIUS_daily.csv')"
   ]
  },
  {
   "cell_type": "code",
   "execution_count": 181,
   "metadata": {
    "collapsed": true
   },
   "outputs": [],
   "source": [
    "#Trend \n",
    "def TRD(df, n):  \n",
    "    M = df['close'].diff(n - 1)  \n",
    "    N = df['close'].shift(n - 1)  \n",
    "    ROC=M/N\n",
    "    Trend=[]\n",
    "    for i in range(df.shape[0]):\n",
    "        \n",
    "        if ROC[i] < 0:\n",
    "            Trend.append(-1)\n",
    "        if ROC[i] >= 0:\n",
    "            Trend.append(1)\n",
    "    TRD= pd.Series(Trend, name = 'TRD_' + str(n))  \n",
    "    TRD = TRD.shift(n-1)\n",
    "    df = df.join(TRD)  \n",
    "    return df\n",
    "\n",
    "n=3\n",
    "TRD = TRD(data,n)\n",
    "TRD.to_csv('/Users/dingding/Desktop/GIIIUS_daily.csv')"
   ]
  },
  {
   "cell_type": "code",
   "execution_count": 168,
   "metadata": {},
   "outputs": [],
   "source": [
    "data=pd.read_csv('/Users/dingding/Desktop/GIIIUS_daily.csv')\n",
    "def RETURN(df, n):  \n",
    "    M = df['close'].diff(n - 1)  \n",
    "    \n",
    "    RT = pd.Series(M , name = 'Return_' + str(n))  \n",
    "    df = df.join(RT)  \n",
    "    return df\n",
    "n=3\n",
    "RT = RETURN(data,n)\n",
    "RT.to_csv('/Users/dingding/Desktop/GIIIUS_daily.csv')"
   ]
  },
  {
   "cell_type": "code",
   "execution_count": 171,
   "metadata": {},
   "outputs": [
    {
     "data": {
      "text/plain": [
       "MA_3          2\n",
       "Vortex_3      6\n",
       "Trix_3        3\n",
       "MACD_1_4      2\n",
       "RSI_3         2\n",
       "MFI_3         2\n",
       "OBV_3         2\n",
       "Force_3       3\n",
       "STD_3         2\n",
       "Donchian_3    3\n",
       "ROC_3         2\n",
       "Return_3      2\n",
       "dtype: int64"
      ]
     },
     "execution_count": 171,
     "metadata": {},
     "output_type": "execute_result"
    }
   ],
   "source": [
    "null_columns=data.columns[data.isnull().any()]\n",
    "data[null_columns].isnull().sum()"
   ]
  },
  {
   "cell_type": "code",
   "execution_count": 174,
   "metadata": {
    "collapsed": true
   },
   "outputs": [],
   "source": [
    "data['cap/ebitda'] = data['CUR_MKT_CAP'].div(data['EBITDA'] ,axis='index')\n",
    "data['return/ebitda'] = data['Return_3'].div(data['EBITDA'] ,axis='index')\n",
    "data['close/ebitda'] = data['close'].div(data['EBITDA'] ,axis='index')\n",
    "\n",
    "data['cap/EPS'] = data['CUR_MKT_CAP'].div(data['IS_EPS'] ,axis='index')\n",
    "data['return/EPS'] = data['Return_3'].div(data['IS_EPS'] ,axis='index')\n",
    "data['close/EPS'] = data['close'].div(data['IS_EPS'] ,axis='index')\n",
    "\n",
    "data['cap/ROE'] = data['CUR_MKT_CAP'].div(data['RETURN_COM_EQY'] ,axis='index')\n",
    "data['return/ROE'] = data['ROC_3'].div(data['RETURN_COM_EQY'] ,axis='index')\n",
    "data['close/ROE'] = data['close'].div(data['RETURN_COM_EQY'] ,axis='index')\n",
    "\n",
    "data['cap/pro'] = data['CUR_MKT_CAP'].div(data['PROF_MARGIN'] ,axis='index')\n",
    "data['return/pro'] = data['ROC_3'].div(data['PROF_MARGIN'] ,axis='index')\n",
    "data['close/pro'] = data['close'].div(data['PROF_MARGIN'] ,axis='index')"
   ]
  },
  {
   "cell_type": "code",
   "execution_count": 178,
   "metadata": {},
   "outputs": [],
   "source": [
    "data.to_csv('/Users/dingding/Desktop/GIIIUS_daily.csv')"
   ]
  },
  {
   "cell_type": "code",
   "execution_count": null,
   "metadata": {
    "collapsed": true
   },
   "outputs": [],
   "source": []
  }
 ],
 "metadata": {
  "kernelspec": {
   "display_name": "Python [conda env:anaconda]",
   "language": "python",
   "name": "conda-env-anaconda-py"
  },
  "language_info": {
   "codemirror_mode": {
    "name": "ipython",
    "version": 3
   },
   "file_extension": ".py",
   "mimetype": "text/x-python",
   "name": "python",
   "nbconvert_exporter": "python",
   "pygments_lexer": "ipython3",
   "version": "3.5.3"
  }
 },
 "nbformat": 4,
 "nbformat_minor": 2
}
